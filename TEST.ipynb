{
 "cells": [
  {
   "cell_type": "code",
   "execution_count": 3,
   "id": "weekly-application",
   "metadata": {},
   "outputs": [
    {
     "data": {
      "text/plain": [
       "array([[1., 1., 1., 1.],\n",
       "       [1., 1., 1., 1.]])"
      ]
     },
     "execution_count": 3,
     "metadata": {},
     "output_type": "execute_result"
    }
   ],
   "source": [
    "class wm:\n",
    "    def __init__(self):\n",
    "        self.heads={}\n",
    "        self.encoder=lambda x: 2.*x\n",
    "        self.heads['image']=lambda x: 0.5*x\n",
    "        \n",
    "    \n",
    "from methods import Reconstructor\n",
    "import numpy as np\n",
    "\n",
    "\n",
    "_wm=wm()\n",
    "rec=Reconstructor(_wm, track_frequency=1)\n",
    "\n",
    "rec(np.ones((2,4)))"
   ]
  },
  {
   "cell_type": "code",
   "execution_count": 4,
   "id": "effective-stereo",
   "metadata": {},
   "outputs": [
    {
     "name": "stdout",
     "output_type": "stream",
     "text": [
      "{'input': [array([[1., 1., 1., 1.],\n",
      "       [1., 1., 1., 1.]])], 'output': [array([[2., 2., 2., 2.],\n",
      "       [2., 2., 2., 2.]])]}\n",
      "{'input': [array([[2., 2., 2., 2.],\n",
      "       [2., 2., 2., 2.]])], 'output': [array([[1., 1., 1., 1.],\n",
      "       [1., 1., 1., 1.]])]}\n"
     ]
    }
   ],
   "source": [
    "rec.tracker.summary()"
   ]
  },
  {
   "cell_type": "code",
   "execution_count": null,
   "id": "protecting-intranet",
   "metadata": {},
   "outputs": [],
   "source": []
  },
  {
   "cell_type": "code",
   "execution_count": null,
   "id": "graduate-peninsula",
   "metadata": {},
   "outputs": [],
   "source": []
  }
 ],
 "metadata": {
  "kernelspec": {
   "display_name": "Python 3",
   "language": "python",
   "name": "python3"
  },
  "language_info": {
   "codemirror_mode": {
    "name": "ipython",
    "version": 3
   },
   "file_extension": ".py",
   "mimetype": "text/x-python",
   "name": "python",
   "nbconvert_exporter": "python",
   "pygments_lexer": "ipython3",
   "version": "3.7.10"
  }
 },
 "nbformat": 4,
 "nbformat_minor": 5
}
