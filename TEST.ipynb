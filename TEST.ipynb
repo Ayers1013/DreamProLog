{
 "cells": [
  {
   "cell_type": "code",
   "execution_count": 2,
   "id": "chemical-lending",
   "metadata": {},
   "outputs": [
    {
     "ename": "AttributeError",
     "evalue": "'wm' object has no attribute 'dynamics'",
     "output_type": "error",
     "traceback": [
      "\u001b[1;31m---------------------------------------------------------------------------\u001b[0m",
      "\u001b[1;31mAttributeError\u001b[0m                            Traceback (most recent call last)",
      "\u001b[1;32m<ipython-input-2-5c38a616e374>\u001b[0m in \u001b[0;36m<module>\u001b[1;34m\u001b[0m\n\u001b[0;32m     13\u001b[0m \u001b[0mrec\u001b[0m\u001b[1;33m=\u001b[0m\u001b[0mReconstructor\u001b[0m\u001b[1;33m(\u001b[0m\u001b[0m_wm\u001b[0m\u001b[1;33m,\u001b[0m \u001b[0mtrack_frequency\u001b[0m\u001b[1;33m=\u001b[0m\u001b[1;36m0\u001b[0m\u001b[1;33m)\u001b[0m\u001b[1;33m\u001b[0m\u001b[1;33m\u001b[0m\u001b[0m\n\u001b[0;32m     14\u001b[0m \u001b[1;33m\u001b[0m\u001b[0m\n\u001b[1;32m---> 15\u001b[1;33m \u001b[0mrec\u001b[0m\u001b[1;33m(\u001b[0m\u001b[0mnp\u001b[0m\u001b[1;33m.\u001b[0m\u001b[0mones\u001b[0m\u001b[1;33m(\u001b[0m\u001b[1;33m(\u001b[0m\u001b[1;36m2\u001b[0m\u001b[1;33m,\u001b[0m\u001b[1;36m4\u001b[0m\u001b[1;33m)\u001b[0m\u001b[1;33m)\u001b[0m\u001b[1;33m)\u001b[0m\u001b[1;33m\u001b[0m\u001b[1;33m\u001b[0m\u001b[0m\n\u001b[0m",
      "\u001b[1;32m~\\Space\\codes\\AI projets\\DreamProLog\\methods.py\u001b[0m in \u001b[0;36m__call__\u001b[1;34m(self, input)\u001b[0m\n\u001b[0;32m     71\u001b[0m   \u001b[1;32mdef\u001b[0m \u001b[0m__call__\u001b[0m\u001b[1;33m(\u001b[0m\u001b[0mself\u001b[0m\u001b[1;33m,\u001b[0m \u001b[0minput\u001b[0m\u001b[1;33m)\u001b[0m\u001b[1;33m:\u001b[0m\u001b[1;33m\u001b[0m\u001b[1;33m\u001b[0m\u001b[0m\n\u001b[0;32m     72\u001b[0m     \u001b[0membed\u001b[0m\u001b[1;33m=\u001b[0m\u001b[0mself\u001b[0m\u001b[1;33m.\u001b[0m\u001b[0mencode\u001b[0m\u001b[1;33m(\u001b[0m\u001b[0minput\u001b[0m\u001b[1;33m=\u001b[0m\u001b[0minput\u001b[0m\u001b[1;33m)\u001b[0m\u001b[1;33m\u001b[0m\u001b[1;33m\u001b[0m\u001b[0m\n\u001b[1;32m---> 73\u001b[1;33m     \u001b[0mpost\u001b[0m\u001b[1;33m,\u001b[0m \u001b[0mprior\u001b[0m \u001b[1;33m=\u001b[0m \u001b[0mself\u001b[0m\u001b[1;33m.\u001b[0m\u001b[0m_wm\u001b[0m\u001b[1;33m.\u001b[0m\u001b[0mdynamics\u001b[0m\u001b[1;33m.\u001b[0m\u001b[0mobserve\u001b[0m\u001b[1;33m(\u001b[0m\u001b[0membed\u001b[0m\u001b[1;33m,\u001b[0m \u001b[0minput\u001b[0m\u001b[1;33m[\u001b[0m\u001b[1;34m'action'\u001b[0m\u001b[1;33m]\u001b[0m\u001b[1;33m)\u001b[0m\u001b[1;33m\u001b[0m\u001b[1;33m\u001b[0m\u001b[0m\n\u001b[0m\u001b[0;32m     74\u001b[0m     \u001b[0mfeat\u001b[0m \u001b[1;33m=\u001b[0m \u001b[0mself\u001b[0m\u001b[1;33m.\u001b[0m\u001b[0m_wm\u001b[0m\u001b[1;33m.\u001b[0m\u001b[0mdynamics\u001b[0m\u001b[1;33m.\u001b[0m\u001b[0mget_feat\u001b[0m\u001b[1;33m(\u001b[0m\u001b[0mpost\u001b[0m\u001b[1;33m)\u001b[0m\u001b[1;33m\u001b[0m\u001b[1;33m\u001b[0m\u001b[0m\n\u001b[0;32m     75\u001b[0m     \u001b[0mimage\u001b[0m\u001b[1;33m=\u001b[0m\u001b[0mself\u001b[0m\u001b[1;33m.\u001b[0m\u001b[0mdecode\u001b[0m\u001b[1;33m(\u001b[0m\u001b[0minput\u001b[0m\u001b[1;33m=\u001b[0m\u001b[0mfeat\u001b[0m\u001b[1;33m)\u001b[0m\u001b[1;33m\u001b[0m\u001b[1;33m\u001b[0m\u001b[0m\n",
      "\u001b[1;31mAttributeError\u001b[0m: 'wm' object has no attribute 'dynamics'"
     ]
    }
   ],
   "source": [
    "class wm:\n",
    "    def __init__(self):\n",
    "        self.heads={}\n",
    "        self.encoder=lambda x: 2.*x\n",
    "        self.heads['image']=lambda x: 0.5*x\n",
    "        \n",
    "    \n",
    "from methods import Reconstructor\n",
    "import numpy as np\n",
    "\n",
    "\n",
    "_wm=wm()\n",
    "rec=Reconstructor(_wm, track_frequency=0)\n",
    "\n",
    "rec(np.ones((2,4)))"
   ]
  },
  {
   "cell_type": "code",
   "execution_count": null,
   "id": "thorough-islam",
   "metadata": {},
   "outputs": [],
   "source": [
    "rec.tracker.summary()"
   ]
  },
  {
   "cell_type": "code",
   "execution_count": null,
   "id": "eligible-escape",
   "metadata": {},
   "outputs": [],
   "source": [
    "from gnn.graph_data import GraphData\n",
    "data=GraphData()\n",
    "data.load_from_str(\"1 1 1 1 1 1 1 1 0 1 0 1,0 1 2 3 4 3 1 0 3 3,-1 -1 -1 -1 -1 -1 2 -1 -1 -1 4 -1 -1 -1 -1 -1 8 -1 10 -1,-1 1 1 -1 1 1 -1 1 1 -1;0 0 1 0 1 0 0 0 1 0 1 0,3 3 3 3,3 -1 5 -1 9 -1 11 -1,-1 1 1 -1;0 0 0 0 0 0 0 0 0 0 0 0,,,;2 2 1 4 1,0 -1 -1 7 -1 -1 1 -1 -1 6 -1 -1 2 -1 -1 3 2 -1 5 4 -1 9 8 -1 11 10 -1 4 -1 -1,-1 1 1 -1 1 -1 1 1 -1 1;2 2 0 1 0 1 2 1 0 1 0 1,0 1 2 4 2 3 3 5 4 4 5;1 1 2 2 3 2,0 0 1 3 5 6 7 1 9 6 11;0 0 1 0 1 0 0 0 3 0 3 0;1 1 0 1 0;0 1 3 3 3 3;0 0 0 0 0 0 1 0 0 0 0\")\n",
    "from gnn.graph_placeholder import GraphPlaceholder\n",
    "from gnn.network import graphs_to_values_logits as gtov\n",
    "from gnn.network import *\n",
    "\n",
    "net=Network()\n",
    "\n",
    "net.predict_probs([data])"
   ]
  },
  {
   "cell_type": "code",
   "execution_count": 1,
   "id": "silver-alberta",
   "metadata": {},
   "outputs": [
    {
     "name": "stdout",
     "output_type": "stream",
     "text": [
      "a\n"
     ]
    }
   ],
   "source": [
    "a=None\n",
    "\n",
    "if(a):\n",
    "    print(\"h\")\n",
    "    \n",
    "if( not a):\n",
    "    print('a')"
   ]
  },
  {
   "cell_type": "code",
   "execution_count": 7,
   "id": "green-hampton",
   "metadata": {},
   "outputs": [],
   "source": [
    "import tensorflow as tf\n",
    "\n",
    "B=4\n",
    "N=2\n",
    "\n",
    "M=tf.ones(shape=(N,N))\n",
    "v=tf.ones(shape=(B,N))\n",
    "\n",
    "u=tf.matmul(v,M)"
   ]
  },
  {
   "cell_type": "code",
   "execution_count": 8,
   "id": "naked-lover",
   "metadata": {},
   "outputs": [
    {
     "data": {
      "text/plain": [
       "<tf.Tensor: shape=(4, 2), dtype=float32, numpy=\n",
       "array([[2., 2.],\n",
       "       [2., 2.],\n",
       "       [2., 2.],\n",
       "       [2., 2.]], dtype=float32)>"
      ]
     },
     "execution_count": 8,
     "metadata": {},
     "output_type": "execute_result"
    }
   ],
   "source": [
    "u"
   ]
  },
  {
   "cell_type": "code",
   "execution_count": null,
   "id": "liquid-cricket",
   "metadata": {},
   "outputs": [],
   "source": []
  }
 ],
 "metadata": {
  "kernelspec": {
   "display_name": "Python 3",
   "language": "python",
   "name": "python3"
  },
  "language_info": {
   "codemirror_mode": {
    "name": "ipython",
    "version": 3
   },
   "file_extension": ".py",
   "mimetype": "text/x-python",
   "name": "python",
   "nbconvert_exporter": "python",
   "pygments_lexer": "ipython3",
   "version": "3.7.10"
  }
 },
 "nbformat": 4,
 "nbformat_minor": 5
}
