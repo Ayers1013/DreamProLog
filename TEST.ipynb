{
 "cells": [
  {
   "cell_type": "code",
   "execution_count": 1,
   "metadata": {},
   "outputs": [],
   "source": [
    "from Env_ProLog import ProLog as Pl"
   ]
  },
  {
   "cell_type": "code",
   "execution_count": 10,
   "metadata": {},
   "outputs": [
    {
     "name": "stdout",
     "output_type": "stream",
     "text": [
      "Query:\n",
      "    init(\"leancop/pelletier21.p\",[conj, nodef, verbose, print_proof],state(Tableau, Actions, Result)), state2gnnInput(state(Tableau, Actions, Result),GnnInput) \n",
      "\n",
      "Query:\n",
      "    step(1,state(Tableau, Actions, Result)), writeln(result-Result), !, state2gnnInput(state(Tableau, Actions, Result),GnnInput) \n",
      "\n",
      "{'Tableau': 'tableau([Functor(712845,1,#)], [], [], [], [], unused, [Functor(10875021,1,-([[Functor(712845,1,#)], [Functor(712845,1,#)]], [[Functor(712845,1,#)], [Functor(712845,1,#)]])), Functor(10829965,1,-(-#, -#))])', 'Actions': [Functor(10650381,6,#,[Atom('381189'), Functor(16056461,1,Variable(138))],n,[Atom('223109'), Atom('381189'), Functor(16056461,1,$VAR(0))],[Variable(148)],4)], 'Result': 0, 'GnnInput': [[Atom('62469'), Atom('223109')], [], [[Atom('62469'), Atom('223109')]], [[Atom('381189'), [Atom('62469'), [Atom('737925'), Atom('311557')]]], [[Atom('737925'), Atom('427269')], [Atom('62469'), Atom('381189')]], [Atom('223109'), Atom('381189'), [Atom('737925'), Variable(209)]], [[Atom('62469'), Atom('381189')], [Atom('62469'), [Atom('737925'), Variable(225)]]]], [0, 0, 0, 0, 1, 0, 0, 0, 0], [0]]}\n"
     ]
    },
    {
     "data": {
      "text/plain": [
       "({'image': [[Atom('62469'), Atom('223109')],\n",
       "   [],\n",
       "   [[Atom('62469'), Atom('223109')]],\n",
       "   [[Atom('381189'), [Atom('62469'), [Atom('737925'), Atom('311557')]]],\n",
       "    [[Atom('737925'), Atom('427269')], [Atom('62469'), Atom('381189')]],\n",
       "    [Atom('223109'), Atom('381189'), [Atom('737925'), Variable(209)]],\n",
       "    [[Atom('62469'), Atom('381189')],\n",
       "     [Atom('62469'), [Atom('737925'), Variable(225)]]]],\n",
       "   [0, 0, 0, 0, 1, 0, 0, 0, 0],\n",
       "   [0]],\n",
       "  'ram': None,\n",
       "  'features': None},\n",
       " 0,\n",
       " False,\n",
       " None)"
      ]
     },
     "execution_count": 10,
     "metadata": {},
     "output_type": "execute_result"
    }
   ],
   "source": [
    "a=Pl()\n",
    "a.step(1)"
   ]
  },
  {
   "cell_type": "code",
   "execution_count": 11,
   "metadata": {},
   "outputs": [],
   "source": [
    "from gnn.gnn_util import *\n",
    "\n"
   ]
  },
  {
   "cell_type": "code",
   "execution_count": 12,
   "metadata": {},
   "outputs": [
    {
     "ename": "TypeError",
     "evalue": "cannot unpack non-iterable NoneType object",
     "output_type": "error",
     "traceback": [
      "\u001b[1;31m---------------------------------------------------------------------------\u001b[0m",
      "\u001b[1;31mTypeError\u001b[0m                                 Traceback (most recent call last)",
      "\u001b[1;32m<ipython-input-12-e06a897aa225>\u001b[0m in \u001b[0;36m<module>\u001b[1;34m\u001b[0m\n\u001b[1;32m----> 1\u001b[1;33m \u001b[0mobs\u001b[0m\u001b[1;33m=\u001b[0m\u001b[0minput2graph\u001b[0m\u001b[1;33m(\u001b[0m\u001b[0ma\u001b[0m\u001b[1;33m.\u001b[0m\u001b[0mprolog\u001b[0m\u001b[1;33m,\u001b[0m\u001b[0ma\u001b[0m\u001b[1;33m.\u001b[0m\u001b[0mmake_image\u001b[0m\u001b[1;33m(\u001b[0m\u001b[1;33m)\u001b[0m\u001b[1;33m)\u001b[0m\u001b[1;33m\u001b[0m\u001b[1;33m\u001b[0m\u001b[0m\n\u001b[0m",
      "\u001b[1;32m~\\Space\\codes\\AI projets\\DreamProLog\\gnn\\gnn_util.py\u001b[0m in \u001b[0;36minput2graph\u001b[1;34m(prolog, gnn_input)\u001b[0m\n\u001b[0;32m    168\u001b[0m         \u001b[0mgraph\u001b[0m\u001b[1;33m.\u001b[0m\u001b[0madd_clause\u001b[0m\u001b[1;33m(\u001b[0m\u001b[0maxiom\u001b[0m\u001b[1;33m,\u001b[0m \u001b[1;36m3\u001b[0m\u001b[1;33m)\u001b[0m\u001b[1;33m\u001b[0m\u001b[1;33m\u001b[0m\u001b[0m\n\u001b[0;32m    169\u001b[0m     \u001b[0mmask\u001b[0m \u001b[1;33m+=\u001b[0m \u001b[0mext_mask\u001b[0m\u001b[1;33m\u001b[0m\u001b[1;33m\u001b[0m\u001b[0m\n\u001b[1;32m--> 170\u001b[1;33m     \u001b[0mdata\u001b[0m \u001b[1;33m=\u001b[0m \u001b[0mgraph\u001b[0m\u001b[1;33m.\u001b[0m\u001b[0mexport_indices\u001b[0m\u001b[1;33m(\u001b[0m\u001b[1;33m)\u001b[0m\u001b[1;33m\u001b[0m\u001b[1;33m\u001b[0m\u001b[0m\n\u001b[0m\u001b[0;32m    171\u001b[0m     \u001b[0mdata\u001b[0m \u001b[1;33m=\u001b[0m \u001b[0mGraphData\u001b[0m\u001b[1;33m(\u001b[0m\u001b[0mdata\u001b[0m\u001b[1;33m)\u001b[0m\u001b[1;33m\u001b[0m\u001b[1;33m\u001b[0m\u001b[0m\n\u001b[0;32m    172\u001b[0m     \u001b[0mdata\u001b[0m\u001b[1;33m.\u001b[0m\u001b[0maxiom_mask\u001b[0m \u001b[1;33m=\u001b[0m \u001b[0mmask\u001b[0m\u001b[1;33m\u001b[0m\u001b[1;33m\u001b[0m\u001b[0m\n",
      "\u001b[1;32m~\\Space\\codes\\AI projets\\DreamProLog\\gnn\\gnn_util.py\u001b[0m in \u001b[0;36mexport_indices\u001b[1;34m(self)\u001b[0m\n\u001b[0;32m     80\u001b[0m         \u001b[1;32mfor\u001b[0m \u001b[0mkey\u001b[0m\u001b[1;33m,\u001b[0m\u001b[0mval\u001b[0m \u001b[1;32min\u001b[0m \u001b[0mself\u001b[0m\u001b[1;33m.\u001b[0m\u001b[0mnode_d\u001b[0m\u001b[1;33m.\u001b[0m\u001b[0mitems\u001b[0m\u001b[1;33m(\u001b[0m\u001b[1;33m)\u001b[0m\u001b[1;33m:\u001b[0m\u001b[1;33m\u001b[0m\u001b[1;33m\u001b[0m\u001b[0m\n\u001b[0;32m     81\u001b[0m             \u001b[1;32mif\u001b[0m \u001b[0misinstance\u001b[0m\u001b[1;33m(\u001b[0m\u001b[0mkey\u001b[0m\u001b[1;33m,\u001b[0m \u001b[0mstr\u001b[0m\u001b[1;33m)\u001b[0m\u001b[1;33m:\u001b[0m \u001b[1;32mcontinue\u001b[0m\u001b[1;33m\u001b[0m\u001b[1;33m\u001b[0m\u001b[0m\n\u001b[1;32m---> 82\u001b[1;33m             \u001b[0mfun\u001b[0m\u001b[1;33m,\u001b[0m\u001b[0msgn\u001b[0m\u001b[1;33m,\u001b[0m\u001b[1;33m*\u001b[0m\u001b[0margs\u001b[0m \u001b[1;33m=\u001b[0m \u001b[0mkey\u001b[0m\u001b[1;33m\u001b[0m\u001b[1;33m\u001b[0m\u001b[0m\n\u001b[0m\u001b[0;32m     83\u001b[0m             \u001b[1;32mif\u001b[0m \u001b[0mlen\u001b[0m\u001b[1;33m(\u001b[0m\u001b[0margs\u001b[0m\u001b[1;33m)\u001b[0m \u001b[1;33m==\u001b[0m \u001b[1;36m0\u001b[0m\u001b[1;33m:\u001b[0m \u001b[0mterm_edges\u001b[0m\u001b[1;33m.\u001b[0m\u001b[0mappend\u001b[0m\u001b[1;33m(\u001b[0m\u001b[1;33m[\u001b[0m\u001b[0mval\u001b[0m\u001b[1;33m,\u001b[0m\u001b[1;33m-\u001b[0m\u001b[1;36m1\u001b[0m\u001b[1;33m,\u001b[0m\u001b[1;33m-\u001b[0m\u001b[1;36m1\u001b[0m\u001b[1;33m,\u001b[0m\u001b[0mfun\u001b[0m\u001b[1;33m,\u001b[0m\u001b[0msgn\u001b[0m\u001b[1;33m]\u001b[0m\u001b[1;33m)\u001b[0m\u001b[1;33m\u001b[0m\u001b[1;33m\u001b[0m\u001b[0m\n\u001b[0;32m     84\u001b[0m             \u001b[1;32melif\u001b[0m \u001b[0mlen\u001b[0m\u001b[1;33m(\u001b[0m\u001b[0margs\u001b[0m\u001b[1;33m)\u001b[0m \u001b[1;33m==\u001b[0m \u001b[1;36m1\u001b[0m\u001b[1;33m:\u001b[0m \u001b[0mterm_edges\u001b[0m\u001b[1;33m.\u001b[0m\u001b[0mappend\u001b[0m\u001b[1;33m(\u001b[0m\u001b[1;33m[\u001b[0m\u001b[0mval\u001b[0m\u001b[1;33m,\u001b[0m\u001b[0margs\u001b[0m\u001b[1;33m[\u001b[0m\u001b[1;36m0\u001b[0m\u001b[1;33m]\u001b[0m\u001b[1;33m,\u001b[0m\u001b[1;33m-\u001b[0m\u001b[1;36m1\u001b[0m\u001b[1;33m,\u001b[0m\u001b[0mfun\u001b[0m\u001b[1;33m,\u001b[0m\u001b[0msgn\u001b[0m\u001b[1;33m]\u001b[0m\u001b[1;33m)\u001b[0m\u001b[1;33m\u001b[0m\u001b[1;33m\u001b[0m\u001b[0m\n",
      "\u001b[1;31mTypeError\u001b[0m: cannot unpack non-iterable NoneType object"
     ]
    }
   ],
   "source": [
    "obs=input2graph(a.prolog,a.make_image())"
   ]
  },
  {
   "cell_type": "code",
   "execution_count": 13,
   "metadata": {},
   "outputs": [],
   "source": [
    "from gnn.gnn_util import *\n",
    "graph=TermGraph(PrologDecoder(a.prolog))"
   ]
  },
  {
   "cell_type": "code",
   "execution_count": 14,
   "metadata": {},
   "outputs": [
    {
     "data": {
      "text/plain": [
       "<gnn.gnn_util.TermGraph at 0x1eb726a45c8>"
      ]
     },
     "execution_count": 14,
     "metadata": {},
     "output_type": "execute_result"
    }
   ],
   "source": [
    "graph"
   ]
  },
  {
   "cell_type": "code",
   "execution_count": 15,
   "metadata": {},
   "outputs": [],
   "source": [
    "curr_lit, path, all_goals, ext_clauses, ext_mask, _ext_perm = a.make_image()\n",
    "graph.add_clause([curr_lit], 0)\n",
    "mask = [0]\n",
    "graph.add_clause(all_goals, 1)\n",
    "mask += [0] * len(all_goals)\n",
    "for p in path:\n",
    "    graph.add_clause([p], 2)\n",
    "    mask += [0]\n",
    "graph.ini_var = 3\n",
    "for axiom in ext_clauses:\n",
    "    graph.reset_vars()\n",
    "    graph.add_clause(axiom, 3)\n",
    "mask += ext_mask"
   ]
  },
  {
   "cell_type": "code",
   "execution_count": 16,
   "metadata": {},
   "outputs": [
    {
     "data": {
      "text/plain": [
       "odict_items([((0, -1), 0), ((1, 1), 1), ((2, 1), 2), ((3, -1, 2), 3), ((4, 1), 4), ((3, 1, 4), 5), ((1, -1), 6), ((0, 1), 7), ((3, 1, 8), 9), (None, 10), ((3, -1, 10), 11)])"
      ]
     },
     "execution_count": 16,
     "metadata": {},
     "output_type": "execute_result"
    }
   ],
   "source": [
    "graph.node_d.items()"
   ]
  },
  {
   "cell_type": "code",
   "execution_count": 17,
   "metadata": {},
   "outputs": [
    {
     "name": "stdout",
     "output_type": "stream",
     "text": [
      "(0, -1) 0\n",
      "(1, 1) 1\n",
      "(2, 1) 2\n",
      "(3, -1, 2) 3\n",
      "(4, 1) 4\n",
      "(3, 1, 4) 5\n",
      "(1, -1) 6\n",
      "(0, 1) 7\n",
      "(3, 1, 8) 9\n",
      "None 10\n",
      "(3, -1, 10) 11\n"
     ]
    }
   ],
   "source": [
    "for key,val in graph.node_d.items():\n",
    "    print(key,val)"
   ]
  },
  {
   "cell_type": "code",
   "execution_count": null,
   "metadata": {},
   "outputs": [],
   "source": []
  }
 ],
 "metadata": {
  "kernelspec": {
   "display_name": "Python 3",
   "language": "python",
   "name": "python3"
  },
  "language_info": {
   "codemirror_mode": {
    "name": "ipython",
    "version": 3
   },
   "file_extension": ".py",
   "mimetype": "text/x-python",
   "name": "python",
   "nbconvert_exporter": "python",
   "pygments_lexer": "ipython3",
   "version": "3.7.6"
  }
 },
 "nbformat": 4,
 "nbformat_minor": 4
}
