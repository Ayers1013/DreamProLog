{
 "cells": [
  {
   "cell_type": "code",
   "execution_count": 1,
   "id": "5ee588dc",
   "metadata": {},
   "outputs": [
    {
     "name": "stderr",
     "output_type": "stream",
     "text": [
      "2021-12-27 19:07:34.253357: I tensorflow/stream_executor/platform/default/dso_loader.cc:49] Successfully opened dynamic library libcudart.so.10.1\n"
     ]
    },
    {
     "name": "stdout",
     "output_type": "stream",
     "text": [
      "Running the DreamProlog algorithm.\n",
      "There was a problem with the provided arguments. The program will run in the default setting:\n",
      "--configs prolog --logdir logdir\n",
      "Namespace(act='elu', action_gnn_hidden_act=64, action_gnn_hidden_val=200, action_gnn_layers=6, action_gnn_next_shape=(32, 64, 32), action_gnn_start_shape=(4, 1, 4), action_repeat=1, actor_disc=5, actor_dist='normal', actor_entropy='1e-4', actor_grad_clip=100, actor_init_std=1.0, actor_layers=4, actor_lr=0.001, actor_min_std=0.1, actor_outscale=0.0, actor_state_entropy=0.0, actor_temp=0.1, atari_grayscale=False, behavior_stop_grad=True, clip_rewards='identity', collect_dyn_sample=True, dataset_size=100000, debug=False, disag_layers=1, disag_log=True, disag_models=3, disag_offset=0, disag_target='embed', disag_units=200, discount=0.95, discount_lambda=0.8, discount_layers=2, discount_scale=1.0, dyn_cell='gru', dyn_deter=512, dyn_discrete=32, dyn_hidden=512, dyn_input_layers=5, dyn_mean_act='none', dyn_min_std=0.1, dyn_output_layers=5, dyn_shared=False, dyn_std_act='sigmoid2', dyn_stoch=192, envs=1, eval_every=500, eval_noise=0.0, eval_state_mean=False, evaldir=None, expl_amount=0.0, expl_behavior='greedy', expl_extr_scale=0.0, expl_gifs=False, expl_intr_scale=1.0, expl_until=10000000.0, free_heads=('image', 'reward', 'discount'), future_entropy=False, gnn_hidden_act=128, gnn_hidden_val=384, gnn_layers=14, gnn_next_shape=(32, 64, 32), gnn_start_shape=(4, 1, 4), gpu_growth=True, grad_clip=200, grad_heads=('image', 'reward', 'discount', 'action_mask'), imag_gradient='reinforce', imag_gradient_mix='0.1', imag_horizon=3, imag_sample=True, kl_balance='0.8', kl_free='0.5', kl_scale='1.0', log_every=10, model_lr=0.0009, offline_evaldir='', offline_traindir='', opt='adam', opt_eps=0.0008, oversample_ends=False, precision=32, pred_discount=True, prefill=40000, pretrain=5, reset_every=0, reward_layers=2, reward_scale=1.0, seed=0, share_gnn=True, slow_actor_target=False, slow_target_fraction=1, slow_target_update=100, slow_value_target=False, steps=1000000, task='prolog_void', time_limit=1000, train_every=25, train_steps=10, traindir=None, units=192, value_decay=0.0, value_grad_clip=100, value_head='normal', value_layers=3, value_lr=0.001, weight_decay=0.0)\n"
     ]
    },
    {
     "name": "stderr",
     "output_type": "stream",
     "text": [
      "usage: ipykernel_launcher.py [-h] --configs CONFIGS [CONFIGS ...] --logdir\n",
      "                             LOGDIR\n",
      "ipykernel_launcher.py: error: the following arguments are required: --configs, --logdir\n"
     ]
    },
    {
     "name": "stdout",
     "output_type": "stream",
     "text": [
      "Logdir logdir\n"
     ]
    },
    {
     "name": "stderr",
     "output_type": "stream",
     "text": [
      "2021-12-27 19:07:35.639454: I tensorflow/compiler/jit/xla_cpu_device.cc:41] Not creating XLA devices, tf_xla_enable_xla_devices not set\n",
      "2021-12-27 19:07:35.640077: I tensorflow/stream_executor/platform/default/dso_loader.cc:49] Successfully opened dynamic library libcuda.so.1\n",
      "2021-12-27 19:07:36.913284: I tensorflow/core/common_runtime/gpu/gpu_device.cc:1720] Found device 0 with properties: \n",
      "pciBusID: 0000:05:00.0 name: TITAN V computeCapability: 7.0\n",
      "coreClock: 1.455GHz coreCount: 80 deviceMemorySize: 11.78GiB deviceMemoryBandwidth: 607.97GiB/s\n",
      "2021-12-27 19:07:36.913920: I tensorflow/core/common_runtime/gpu/gpu_device.cc:1720] Found device 1 with properties: \n",
      "pciBusID: 0000:09:00.0 name: TITAN V computeCapability: 7.0\n",
      "coreClock: 1.455GHz coreCount: 80 deviceMemorySize: 11.78GiB deviceMemoryBandwidth: 607.97GiB/s\n",
      "2021-12-27 19:07:36.913940: I tensorflow/stream_executor/platform/default/dso_loader.cc:49] Successfully opened dynamic library libcudart.so.10.1\n",
      "2021-12-27 19:07:36.915274: I tensorflow/stream_executor/platform/default/dso_loader.cc:49] Successfully opened dynamic library libcublas.so.10\n",
      "2021-12-27 19:07:36.915304: I tensorflow/stream_executor/platform/default/dso_loader.cc:49] Successfully opened dynamic library libcublasLt.so.10\n",
      "2021-12-27 19:07:36.916503: I tensorflow/stream_executor/platform/default/dso_loader.cc:49] Successfully opened dynamic library libcufft.so.10\n",
      "2021-12-27 19:07:36.916697: I tensorflow/stream_executor/platform/default/dso_loader.cc:49] Successfully opened dynamic library libcurand.so.10\n",
      "2021-12-27 19:07:36.918006: I tensorflow/stream_executor/platform/default/dso_loader.cc:49] Successfully opened dynamic library libcusolver.so.10\n",
      "2021-12-27 19:07:36.918720: I tensorflow/stream_executor/platform/default/dso_loader.cc:49] Successfully opened dynamic library libcusparse.so.10\n",
      "2021-12-27 19:07:36.921535: I tensorflow/stream_executor/platform/default/dso_loader.cc:49] Successfully opened dynamic library libcudnn.so.7\n",
      "2021-12-27 19:07:36.923943: I tensorflow/core/common_runtime/gpu/gpu_device.cc:1862] Adding visible gpu devices: 0, 1\n"
     ]
    },
    {
     "name": "stdout",
     "output_type": "stream",
     "text": [
      "Suite: prolog\n",
      "Found 131 problem files.\n",
      "Query:\n",
      "    init_python(\"leancop/theorems/m2n140/t111_funct_2.p\",[conj, nodef, eager_reduction(1)],GnnInput, SimpleFeatures, TextFeatures, TextActions, ActionsMask, Result) \n",
      "\n",
      "Suite: prolog\n",
      "Found 131 problem files.\n",
      "Query:\n",
      "    init_python(\"leancop/theorems/m2n140/t38_waybel_9.p\",[conj, nodef, eager_reduction(1)],GnnInput, SimpleFeatures, TextFeatures, TextActions, ActionsMask, Result) \n",
      "\n",
      "Prefill dataset (0 steps).\n",
      "Loaded problem: m2n140__t95_funct_2\n",
      "Found 131 problem files.\n",
      "Query:\n",
      "    init_python(\"leancop/theorems/m2n140/t2_wellord1.p\",[conj, nodef, eager_reduction(1)],GnnInput, SimpleFeatures, TextFeatures, TextActions, ActionsMask, Result) \n",
      "\n",
      "Eval episode has 25 steps and return -0.500.\n"
     ]
    },
    {
     "name": "stderr",
     "output_type": "stream",
     "text": [
      "/home/kristsz/DreamProLog/envs/wrappers.py:57: VisibleDeprecationWarning: Creating an ndarray from ragged nested sequences (which is a list-or-tuple of lists-or-tuples-or ndarrays with different lengths or shapes) is deprecated. If you meant to do this, you must specify 'dtype=object' when creating the ndarray\n",
      "  value = np.array(value)\n"
     ]
    }
   ],
   "source": [
    "from main import init_config\n",
    "from controller import Controller\n",
    "from dataset.process import TokenParser\n",
    "\n",
    "import numpy as np\n",
    "\n",
    "ctrl = Controller(*init_config())"
   ]
  },
  {
   "cell_type": "code",
   "execution_count": 2,
   "id": "0eab208f",
   "metadata": {},
   "outputs": [],
   "source": [
    "meta = ctrl.datasetManager._train_eps._meta\n",
    "ds = []\n",
    "for v in meta.values():\n",
    "    ds.extend([str(s)[1:] for s in v['action_space_text']])\n",
    "    \n",
    "parser = TokenParser()\n",
    "\n",
    "def pad(narr):\n",
    "    size = narr.size\n",
    "    return np.pad(narr, [0, 128-size])\n",
    "\n",
    "parsed_ds = []\n",
    "for dp in ds:\n",
    "    parsed_ds.append(pad(np.array(parser.parse(dp), dtype = np.int32)))"
   ]
  },
  {
   "cell_type": "code",
   "execution_count": 3,
   "id": "30896e5d",
   "metadata": {},
   "outputs": [
    {
     "name": "stderr",
     "output_type": "stream",
     "text": [
      "2021-12-27 19:07:47.879130: I tensorflow/core/platform/cpu_feature_guard.cc:142] This TensorFlow binary is optimized with oneAPI Deep Neural Network Library (oneDNN) to use the following CPU instructions in performance-critical operations:  SSE4.1 SSE4.2 AVX AVX2 FMA\n",
      "To enable them in other operations, rebuild TensorFlow with the appropriate compiler flags.\n",
      "2021-12-27 19:07:48.103498: I tensorflow/core/common_runtime/gpu/gpu_device.cc:1720] Found device 0 with properties: \n",
      "pciBusID: 0000:05:00.0 name: TITAN V computeCapability: 7.0\n",
      "coreClock: 1.455GHz coreCount: 80 deviceMemorySize: 11.78GiB deviceMemoryBandwidth: 607.97GiB/s\n",
      "2021-12-27 19:07:48.104193: I tensorflow/core/common_runtime/gpu/gpu_device.cc:1720] Found device 1 with properties: \n",
      "pciBusID: 0000:09:00.0 name: TITAN V computeCapability: 7.0\n",
      "coreClock: 1.455GHz coreCount: 80 deviceMemorySize: 11.78GiB deviceMemoryBandwidth: 607.97GiB/s\n",
      "2021-12-27 19:07:48.104217: I tensorflow/stream_executor/platform/default/dso_loader.cc:49] Successfully opened dynamic library libcudart.so.10.1\n",
      "2021-12-27 19:07:48.104239: I tensorflow/stream_executor/platform/default/dso_loader.cc:49] Successfully opened dynamic library libcublas.so.10\n",
      "2021-12-27 19:07:48.104251: I tensorflow/stream_executor/platform/default/dso_loader.cc:49] Successfully opened dynamic library libcublasLt.so.10\n",
      "2021-12-27 19:07:48.104261: I tensorflow/stream_executor/platform/default/dso_loader.cc:49] Successfully opened dynamic library libcufft.so.10\n",
      "2021-12-27 19:07:48.104273: I tensorflow/stream_executor/platform/default/dso_loader.cc:49] Successfully opened dynamic library libcurand.so.10\n",
      "2021-12-27 19:07:48.104283: I tensorflow/stream_executor/platform/default/dso_loader.cc:49] Successfully opened dynamic library libcusolver.so.10\n",
      "2021-12-27 19:07:48.104294: I tensorflow/stream_executor/platform/default/dso_loader.cc:49] Successfully opened dynamic library libcusparse.so.10\n",
      "2021-12-27 19:07:48.104305: I tensorflow/stream_executor/platform/default/dso_loader.cc:49] Successfully opened dynamic library libcudnn.so.7\n",
      "2021-12-27 19:07:48.106880: I tensorflow/core/common_runtime/gpu/gpu_device.cc:1862] Adding visible gpu devices: 0, 1\n",
      "2021-12-27 19:07:48.106912: I tensorflow/stream_executor/platform/default/dso_loader.cc:49] Successfully opened dynamic library libcudart.so.10.1\n",
      "2021-12-27 19:07:48.778393: I tensorflow/core/common_runtime/gpu/gpu_device.cc:1261] Device interconnect StreamExecutor with strength 1 edge matrix:\n",
      "2021-12-27 19:07:48.778424: I tensorflow/core/common_runtime/gpu/gpu_device.cc:1267]      0 1 \n",
      "2021-12-27 19:07:48.778430: I tensorflow/core/common_runtime/gpu/gpu_device.cc:1280] 0:   N Y \n",
      "2021-12-27 19:07:48.778433: I tensorflow/core/common_runtime/gpu/gpu_device.cc:1280] 1:   Y N \n",
      "2021-12-27 19:07:48.780909: I tensorflow/core/common_runtime/gpu/gpu_device.cc:1406] Created TensorFlow device (/job:localhost/replica:0/task:0/device:GPU:0 with 10910 MB memory) -> physical GPU (device: 0, name: TITAN V, pci bus id: 0000:05:00.0, compute capability: 7.0)\n",
      "2021-12-27 19:07:48.782412: I tensorflow/core/common_runtime/gpu/gpu_device.cc:1406] Created TensorFlow device (/job:localhost/replica:0/task:0/device:GPU:1 with 10913 MB memory) -> physical GPU (device: 1, name: TITAN V, pci bus id: 0000:09:00.0, compute capability: 7.0)\n",
      "2021-12-27 19:07:48.782666: I tensorflow/compiler/jit/xla_gpu_device.cc:99] Not creating XLA devices, tf_xla_enable_xla_devices not set\n"
     ]
    }
   ],
   "source": [
    "import tensorflow as tf\n",
    "BATCH_SIZE = 32\n",
    "def generator():\n",
    "    for i in range(1000):\n",
    "        x = tf.constant([parsed_ds[np.random.randint(len(parsed_ds))] for i in range(BATCH_SIZE)])\n",
    "        yield x, x\n",
    "sgn = tf.TensorSpec((BATCH_SIZE, 128), dtype=tf.int32)\n",
    "tf_ds = tf.data.Dataset.from_generator(generator, output_signature = (sgn, sgn))"
   ]
  },
  {
   "cell_type": "code",
   "execution_count": 4,
   "id": "fd23e2fb",
   "metadata": {},
   "outputs": [],
   "source": [
    "from unorganized.parts3 import Net"
   ]
  },
  {
   "cell_type": "code",
   "execution_count": 5,
   "id": "646ac130",
   "metadata": {},
   "outputs": [],
   "source": [
    "class Loss(tf.keras.losses.Loss):\n",
    "    def __init__(self, omega=0.0):\n",
    "        super().__init__()\n",
    "        self.omega = omega\n",
    "        \n",
    "    def call(self, y_true, y_pred):\n",
    "        y = tf.nn.softmax(y_pred, axis=-1)\n",
    "        y_probs = tf.gather(y, y_true, axis=-1, batch_dims=2)\n",
    "        y_log_probs = tf.math.log(y_probs+0.001)\n",
    "        #loss = self.omega*y_log_probs + (1-self.omega)*tf.math.cumsum(y_log_probs, axis=-1)\n",
    "        #loss = y_log_probs*tf.math.cumprod(0.97*tf.ones((32,128)), axis=-1)\n",
    "        mask = 1-tf.cast(tf.math.equal(y_true, 0), tf.float32)\n",
    "        #mask = tf.math.cumprod(mask, axis=-1)\n",
    "        loss = (mask+self.omega)*y_log_probs\n",
    "        loss = -tf.math.reduce_sum(loss)/(128*32)\n",
    "        return loss"
   ]
  },
  {
   "cell_type": "code",
   "execution_count": 6,
   "id": "6f9556c5",
   "metadata": {},
   "outputs": [],
   "source": [
    "model = Net(3, 8, 128, 16, 1, 32)#Net(4, 8, 128, 64, 4, 128)#Net(128, 4, 256)\n",
    "#d_model = 256\n",
    "#enc_embed = tf.keras.layers.Embedding(300, d_model)\n",
    "#encoder = Encoder(4, d_model, 4, 512, 0.04)"
   ]
  },
  {
   "cell_type": "code",
   "execution_count": 7,
   "id": "b6cda476",
   "metadata": {},
   "outputs": [
    {
     "name": "stderr",
     "output_type": "stream",
     "text": [
      "2021-12-27 19:07:48.865484: I tensorflow/compiler/mlir/mlir_graph_optimization_pass.cc:116] None of the MLIR optimization passes are enabled (registered 2)\n",
      "2021-12-27 19:07:48.885478: I tensorflow/core/platform/profile_utils/cpu_utils.cc:112] CPU Frequency: 3598190000 Hz\n",
      "2021-12-27 19:07:48.911607: I tensorflow/stream_executor/platform/default/dso_loader.cc:49] Successfully opened dynamic library libcublas.so.10\n",
      "2021-12-27 19:07:49.069523: I tensorflow/stream_executor/platform/default/dso_loader.cc:49] Successfully opened dynamic library libcudnn.so.7\n"
     ]
    }
   ],
   "source": [
    "x, x = next(iter(tf_ds))\n",
    "model(x, False)\n",
    "y_true = x\n",
    "mask = 1-tf.cast(tf.math.equal(y_true, 0), tf.float32)\n",
    "mask = tf.math.cumprod(mask, axis=-1)"
   ]
  },
  {
   "cell_type": "code",
   "execution_count": 8,
   "id": "af8f2751",
   "metadata": {},
   "outputs": [],
   "source": [
    "model.compile(optimizer=tf.keras.optimizers.Adam(), loss=Loss(), metrics=[])\n"
   ]
  },
  {
   "cell_type": "code",
   "execution_count": 9,
   "id": "2ea1cba5",
   "metadata": {},
   "outputs": [
    {
     "name": "stdout",
     "output_type": "stream",
     "text": [
      "Epoch 1/50\n",
      "1000/1000 [==============================] - 9s 8ms/step - loss: 0.4382\n",
      "Epoch 2/50\n",
      "1000/1000 [==============================] - 8s 8ms/step - loss: 0.0142\n",
      "Epoch 3/50\n",
      "1000/1000 [==============================] - 8s 8ms/step - loss: 0.0043\n",
      "Epoch 4/50\n",
      "1000/1000 [==============================] - 8s 8ms/step - loss: 0.0017\n",
      "Epoch 5/50\n",
      "1000/1000 [==============================] - 8s 8ms/step - loss: 7.1228e-04\n",
      "Epoch 6/50\n",
      "1000/1000 [==============================] - 8s 8ms/step - loss: 2.9062e-04\n",
      "Epoch 7/50\n",
      "1000/1000 [==============================] - 8s 8ms/step - loss: 1.0895e-04\n",
      "Epoch 8/50\n",
      "1000/1000 [==============================] - 8s 8ms/step - loss: -4.5364e-06\n",
      "Epoch 9/50\n",
      "1000/1000 [==============================] - 8s 8ms/step - loss: -6.0888e-05\n",
      "Epoch 10/50\n",
      "1000/1000 [==============================] - 8s 8ms/step - loss: -1.1322e-04\n",
      "Epoch 11/50\n",
      "1000/1000 [==============================] - 8s 8ms/step - loss: -1.3569e-04\n",
      "Epoch 12/50\n",
      " 126/1000 [==>...........................] - ETA: 6s - loss: -1.6004e-04"
     ]
    },
    {
     "ename": "KeyboardInterrupt",
     "evalue": "",
     "output_type": "error",
     "traceback": [
      "\u001b[0;31m---------------------------------------------------------------------------\u001b[0m",
      "\u001b[0;31mKeyboardInterrupt\u001b[0m                         Traceback (most recent call last)",
      "\u001b[0;32m/tmp/ipykernel_13741/2708861432.py\u001b[0m in \u001b[0;36m<module>\u001b[0;34m\u001b[0m\n\u001b[0;32m----> 1\u001b[0;31m \u001b[0mmodel\u001b[0m\u001b[0;34m.\u001b[0m\u001b[0mfit\u001b[0m\u001b[0;34m(\u001b[0m\u001b[0mtf_ds\u001b[0m\u001b[0;34m,\u001b[0m \u001b[0mepochs\u001b[0m \u001b[0;34m=\u001b[0m \u001b[0;36m50\u001b[0m\u001b[0;34m)\u001b[0m\u001b[0;34m\u001b[0m\u001b[0;34m\u001b[0m\u001b[0m\n\u001b[0m",
      "\u001b[0;32m~/miniconda3/envs/tf2/lib/python3.7/site-packages/tensorflow/python/keras/engine/training.py\u001b[0m in \u001b[0;36mfit\u001b[0;34m(self, x, y, batch_size, epochs, verbose, callbacks, validation_split, validation_data, shuffle, class_weight, sample_weight, initial_epoch, steps_per_epoch, validation_steps, validation_batch_size, validation_freq, max_queue_size, workers, use_multiprocessing)\u001b[0m\n\u001b[1;32m   1098\u001b[0m                 _r=1):\n\u001b[1;32m   1099\u001b[0m               \u001b[0mcallbacks\u001b[0m\u001b[0;34m.\u001b[0m\u001b[0mon_train_batch_begin\u001b[0m\u001b[0;34m(\u001b[0m\u001b[0mstep\u001b[0m\u001b[0;34m)\u001b[0m\u001b[0;34m\u001b[0m\u001b[0;34m\u001b[0m\u001b[0m\n\u001b[0;32m-> 1100\u001b[0;31m               \u001b[0mtmp_logs\u001b[0m \u001b[0;34m=\u001b[0m \u001b[0mself\u001b[0m\u001b[0;34m.\u001b[0m\u001b[0mtrain_function\u001b[0m\u001b[0;34m(\u001b[0m\u001b[0miterator\u001b[0m\u001b[0;34m)\u001b[0m\u001b[0;34m\u001b[0m\u001b[0;34m\u001b[0m\u001b[0m\n\u001b[0m\u001b[1;32m   1101\u001b[0m               \u001b[0;32mif\u001b[0m \u001b[0mdata_handler\u001b[0m\u001b[0;34m.\u001b[0m\u001b[0mshould_sync\u001b[0m\u001b[0;34m:\u001b[0m\u001b[0;34m\u001b[0m\u001b[0;34m\u001b[0m\u001b[0m\n\u001b[1;32m   1102\u001b[0m                 \u001b[0mcontext\u001b[0m\u001b[0;34m.\u001b[0m\u001b[0masync_wait\u001b[0m\u001b[0;34m(\u001b[0m\u001b[0;34m)\u001b[0m\u001b[0;34m\u001b[0m\u001b[0;34m\u001b[0m\u001b[0m\n",
      "\u001b[0;32m~/miniconda3/envs/tf2/lib/python3.7/site-packages/tensorflow/python/eager/def_function.py\u001b[0m in \u001b[0;36m__call__\u001b[0;34m(self, *args, **kwds)\u001b[0m\n\u001b[1;32m    826\u001b[0m     \u001b[0mtracing_count\u001b[0m \u001b[0;34m=\u001b[0m \u001b[0mself\u001b[0m\u001b[0;34m.\u001b[0m\u001b[0mexperimental_get_tracing_count\u001b[0m\u001b[0;34m(\u001b[0m\u001b[0;34m)\u001b[0m\u001b[0;34m\u001b[0m\u001b[0;34m\u001b[0m\u001b[0m\n\u001b[1;32m    827\u001b[0m     \u001b[0;32mwith\u001b[0m \u001b[0mtrace\u001b[0m\u001b[0;34m.\u001b[0m\u001b[0mTrace\u001b[0m\u001b[0;34m(\u001b[0m\u001b[0mself\u001b[0m\u001b[0;34m.\u001b[0m\u001b[0m_name\u001b[0m\u001b[0;34m)\u001b[0m \u001b[0;32mas\u001b[0m \u001b[0mtm\u001b[0m\u001b[0;34m:\u001b[0m\u001b[0;34m\u001b[0m\u001b[0;34m\u001b[0m\u001b[0m\n\u001b[0;32m--> 828\u001b[0;31m       \u001b[0mresult\u001b[0m \u001b[0;34m=\u001b[0m \u001b[0mself\u001b[0m\u001b[0;34m.\u001b[0m\u001b[0m_call\u001b[0m\u001b[0;34m(\u001b[0m\u001b[0;34m*\u001b[0m\u001b[0margs\u001b[0m\u001b[0;34m,\u001b[0m \u001b[0;34m**\u001b[0m\u001b[0mkwds\u001b[0m\u001b[0;34m)\u001b[0m\u001b[0;34m\u001b[0m\u001b[0;34m\u001b[0m\u001b[0m\n\u001b[0m\u001b[1;32m    829\u001b[0m       \u001b[0mcompiler\u001b[0m \u001b[0;34m=\u001b[0m \u001b[0;34m\"xla\"\u001b[0m \u001b[0;32mif\u001b[0m \u001b[0mself\u001b[0m\u001b[0;34m.\u001b[0m\u001b[0m_experimental_compile\u001b[0m \u001b[0;32melse\u001b[0m \u001b[0;34m\"nonXla\"\u001b[0m\u001b[0;34m\u001b[0m\u001b[0;34m\u001b[0m\u001b[0m\n\u001b[1;32m    830\u001b[0m       \u001b[0mnew_tracing_count\u001b[0m \u001b[0;34m=\u001b[0m \u001b[0mself\u001b[0m\u001b[0;34m.\u001b[0m\u001b[0mexperimental_get_tracing_count\u001b[0m\u001b[0;34m(\u001b[0m\u001b[0;34m)\u001b[0m\u001b[0;34m\u001b[0m\u001b[0;34m\u001b[0m\u001b[0m\n",
      "\u001b[0;32m~/miniconda3/envs/tf2/lib/python3.7/site-packages/tensorflow/python/eager/def_function.py\u001b[0m in \u001b[0;36m_call\u001b[0;34m(self, *args, **kwds)\u001b[0m\n\u001b[1;32m    853\u001b[0m       \u001b[0;31m# In this case we have created variables on the first call, so we run the\u001b[0m\u001b[0;34m\u001b[0m\u001b[0;34m\u001b[0m\u001b[0;34m\u001b[0m\u001b[0m\n\u001b[1;32m    854\u001b[0m       \u001b[0;31m# defunned version which is guaranteed to never create variables.\u001b[0m\u001b[0;34m\u001b[0m\u001b[0;34m\u001b[0m\u001b[0;34m\u001b[0m\u001b[0m\n\u001b[0;32m--> 855\u001b[0;31m       \u001b[0;32mreturn\u001b[0m \u001b[0mself\u001b[0m\u001b[0;34m.\u001b[0m\u001b[0m_stateless_fn\u001b[0m\u001b[0;34m(\u001b[0m\u001b[0;34m*\u001b[0m\u001b[0margs\u001b[0m\u001b[0;34m,\u001b[0m \u001b[0;34m**\u001b[0m\u001b[0mkwds\u001b[0m\u001b[0;34m)\u001b[0m  \u001b[0;31m# pylint: disable=not-callable\u001b[0m\u001b[0;34m\u001b[0m\u001b[0;34m\u001b[0m\u001b[0m\n\u001b[0m\u001b[1;32m    856\u001b[0m     \u001b[0;32melif\u001b[0m \u001b[0mself\u001b[0m\u001b[0;34m.\u001b[0m\u001b[0m_stateful_fn\u001b[0m \u001b[0;32mis\u001b[0m \u001b[0;32mnot\u001b[0m \u001b[0;32mNone\u001b[0m\u001b[0;34m:\u001b[0m\u001b[0;34m\u001b[0m\u001b[0;34m\u001b[0m\u001b[0m\n\u001b[1;32m    857\u001b[0m       \u001b[0;31m# Release the lock early so that multiple threads can perform the call\u001b[0m\u001b[0;34m\u001b[0m\u001b[0;34m\u001b[0m\u001b[0;34m\u001b[0m\u001b[0m\n",
      "\u001b[0;32m~/miniconda3/envs/tf2/lib/python3.7/site-packages/tensorflow/python/eager/function.py\u001b[0m in \u001b[0;36m__call__\u001b[0;34m(self, *args, **kwargs)\u001b[0m\n\u001b[1;32m   2941\u001b[0m        filtered_flat_args) = self._maybe_define_function(args, kwargs)\n\u001b[1;32m   2942\u001b[0m     return graph_function._call_flat(\n\u001b[0;32m-> 2943\u001b[0;31m         filtered_flat_args, captured_inputs=graph_function.captured_inputs)  # pylint: disable=protected-access\n\u001b[0m\u001b[1;32m   2944\u001b[0m \u001b[0;34m\u001b[0m\u001b[0m\n\u001b[1;32m   2945\u001b[0m   \u001b[0;34m@\u001b[0m\u001b[0mproperty\u001b[0m\u001b[0;34m\u001b[0m\u001b[0;34m\u001b[0m\u001b[0m\n",
      "\u001b[0;32m~/miniconda3/envs/tf2/lib/python3.7/site-packages/tensorflow/python/eager/function.py\u001b[0m in \u001b[0;36m_call_flat\u001b[0;34m(self, args, captured_inputs, cancellation_manager)\u001b[0m\n\u001b[1;32m   1917\u001b[0m       \u001b[0;31m# No tape is watching; skip to running the function.\u001b[0m\u001b[0;34m\u001b[0m\u001b[0;34m\u001b[0m\u001b[0;34m\u001b[0m\u001b[0m\n\u001b[1;32m   1918\u001b[0m       return self._build_call_outputs(self._inference_function.call(\n\u001b[0;32m-> 1919\u001b[0;31m           ctx, args, cancellation_manager=cancellation_manager))\n\u001b[0m\u001b[1;32m   1920\u001b[0m     forward_backward = self._select_forward_and_backward_functions(\n\u001b[1;32m   1921\u001b[0m         \u001b[0margs\u001b[0m\u001b[0;34m,\u001b[0m\u001b[0;34m\u001b[0m\u001b[0;34m\u001b[0m\u001b[0m\n",
      "\u001b[0;32m~/miniconda3/envs/tf2/lib/python3.7/site-packages/tensorflow/python/eager/function.py\u001b[0m in \u001b[0;36mcall\u001b[0;34m(self, ctx, args, cancellation_manager)\u001b[0m\n\u001b[1;32m    558\u001b[0m               \u001b[0minputs\u001b[0m\u001b[0;34m=\u001b[0m\u001b[0margs\u001b[0m\u001b[0;34m,\u001b[0m\u001b[0;34m\u001b[0m\u001b[0;34m\u001b[0m\u001b[0m\n\u001b[1;32m    559\u001b[0m               \u001b[0mattrs\u001b[0m\u001b[0;34m=\u001b[0m\u001b[0mattrs\u001b[0m\u001b[0;34m,\u001b[0m\u001b[0;34m\u001b[0m\u001b[0;34m\u001b[0m\u001b[0m\n\u001b[0;32m--> 560\u001b[0;31m               ctx=ctx)\n\u001b[0m\u001b[1;32m    561\u001b[0m         \u001b[0;32melse\u001b[0m\u001b[0;34m:\u001b[0m\u001b[0;34m\u001b[0m\u001b[0;34m\u001b[0m\u001b[0m\n\u001b[1;32m    562\u001b[0m           outputs = execute.execute_with_cancellation(\n",
      "\u001b[0;32m~/miniconda3/envs/tf2/lib/python3.7/site-packages/tensorflow/python/eager/execute.py\u001b[0m in \u001b[0;36mquick_execute\u001b[0;34m(op_name, num_outputs, inputs, attrs, ctx, name)\u001b[0m\n\u001b[1;32m     58\u001b[0m     \u001b[0mctx\u001b[0m\u001b[0;34m.\u001b[0m\u001b[0mensure_initialized\u001b[0m\u001b[0;34m(\u001b[0m\u001b[0;34m)\u001b[0m\u001b[0;34m\u001b[0m\u001b[0;34m\u001b[0m\u001b[0m\n\u001b[1;32m     59\u001b[0m     tensors = pywrap_tfe.TFE_Py_Execute(ctx._handle, device_name, op_name,\n\u001b[0;32m---> 60\u001b[0;31m                                         inputs, attrs, num_outputs)\n\u001b[0m\u001b[1;32m     61\u001b[0m   \u001b[0;32mexcept\u001b[0m \u001b[0mcore\u001b[0m\u001b[0;34m.\u001b[0m\u001b[0m_NotOkStatusException\u001b[0m \u001b[0;32mas\u001b[0m \u001b[0me\u001b[0m\u001b[0;34m:\u001b[0m\u001b[0;34m\u001b[0m\u001b[0;34m\u001b[0m\u001b[0m\n\u001b[1;32m     62\u001b[0m     \u001b[0;32mif\u001b[0m \u001b[0mname\u001b[0m \u001b[0;32mis\u001b[0m \u001b[0;32mnot\u001b[0m \u001b[0;32mNone\u001b[0m\u001b[0;34m:\u001b[0m\u001b[0;34m\u001b[0m\u001b[0;34m\u001b[0m\u001b[0m\n",
      "\u001b[0;31mKeyboardInterrupt\u001b[0m: "
     ]
    }
   ],
   "source": [
    "model.fit(tf_ds, epochs = 50)"
   ]
  },
  {
   "cell_type": "code",
   "execution_count": 10,
   "id": "ed7a942c",
   "metadata": {},
   "outputs": [
    {
     "name": "stdout",
     "output_type": "stream",
     "text": [
      "tf.Tensor(\n",
      "[[  9   5  12  13   2   3   9   5  16  13   2   9   5  16  12   2   0   0\n",
      "    0   0   0   0   0   0   0   0   0   0   0   0   0   0   0   0   0   0\n",
      "    0   0   0   0   0   0   0   0   0   0   0   0   0   0   0   0   0   0\n",
      "    0   0   0   0   0   0   0   0   0   0   0   0   0   0   0   0   0   0\n",
      "    0   0   0   0   0   0   0   0   0   0   0   0   0   0   0   0   0   0\n",
      "    0   0   0   0   0   0   0   0   0   0   0   0   0   0   0   0   0   0\n",
      "    0   0   0   0   0   0   0   0   0   0   0   0   0   0   0   0   0   0\n",
      "    0   0]\n",
      " [  1   2  33  23  15   7   2   0   0   0   0   0   0   0   0   0   0   0\n",
      "    0   0   0   0   0   0   0   0   0   0   0   0   0   0   0   0   0   0\n",
      "    0   0   0   0   0   0   0   0   0   0   0   0   0   0   0   0   0   0\n",
      "    0   0   0   0   0   0   0   0   0   0   0   0   0   0   0   0   0   0\n",
      "    0   0   0   0   0   0   0   0   0   0   0   0   0   0   0   0   0   0\n",
      "    0   0   0   0   0   0   0   0   0   0   0   0   0   0   0   0   0   0\n",
      "    0   0   0   0   0   0   0   0   0   0   0   0   0   0   0   0   0   0\n",
      "    0   0]\n",
      " [  3  14   5  19   5  12  13  12   2   3   9   5  12 119  23  13   2   3\n",
      "   14   5  57   5   6   5  12  13  19   5  12  13  13   2   0   0   0   0\n",
      "    0   0   0   0   0   0   0   0   0   0   0   0   0   0   0   0   0   0\n",
      "    0   0   0   0   0   0   0   0   0   0   0   0   0   0   0   0   0   0\n",
      "    0   0   0   0   0   0   0   0   0   0   0   0   0   0   0   0   0   0\n",
      "    0   0   0   0   0   0   0   0   0   0   0   0   0   0   0   0   0   0\n",
      "    0   0   0   0   0   0   0   0   0   0   0   0   0   0   0   0   0   0\n",
      "    0   0]\n",
      " [ 27  23  12   2  21   5  12  22  23  24   5  13  16   2   9   5  18 173\n",
      "   20  13  16  12   2  14   5  43  18   2   3 152   5  19  58  43  18  12\n",
      "   16  13  13   2   0   0   0   0   0   0   0   0   0   0   0   0   0   0\n",
      "    0   0   0   0   0   0   0   0   0   0   0   0   0   0   0   0   0   0\n",
      "    0   0   0   0   0   0   0   0   0   0   0   0   0   0   0   0   0   0\n",
      "    0   0   0   0   0   0   0   0   0   0   0   0   0   0   0   0   0   0\n",
      "    0   0   0   0   0   0   0   0   0   0   0   0   0   0   0   0   0   0\n",
      "    0   0]], shape=(4, 128), dtype=int32)\n",
      "\n",
      "tf.Tensor(\n",
      "[[  9   5  12  13   2   3   9   5  16  13   2   9   5  16  12   2  74  74\n",
      "   74  74  74  74  74  74  74  74  74  74  74  74  74  74  74  74  74  74\n",
      "   74  74  74  74  74  74  74  74  74  74  74  74  74  74  74  74  74  74\n",
      "   74  74  74  74  74  74  74  74  74  74  74  74  74  74  74  74  74  74\n",
      "   74  74  74  74  74  74  74  74  74  74  74  74  74  74  74  74  74  74\n",
      "   74  74  74  74  74  74  74  74  74  74  74  74  74  74  74  74  74  74\n",
      "   74  74  74  74  74  74  74  74  74  74  74  74  74  74  74  74  74  74\n",
      "   74  74]\n",
      " [  1   2  33  23  15   7   2  74  74  74  74  74  74  74  74  74  74  74\n",
      "   74  74  74  74  74  74  74  74  74  74  74  74  74  74  74  74  74  74\n",
      "   74  74  74  74  74  74  74  74  74  74  74  74  74  74  74  74  74  74\n",
      "   74  74  74  74  74  74  74  74  74  74  74  74  74  74  74  74  74  74\n",
      "   74  74  74  74  74  74  74  74  74  74  74  74  74  74  74  74  74  74\n",
      "   74  74  74  74  74  74  74  74  74  74  74  74  74  74  74  74  74  74\n",
      "   74  74  74  74  74  74  74  74  74  74  74  74  74  74  74  74  74  74\n",
      "   74  74]\n",
      " [  3  14   5  19   5  12  13  12   2   3   9   5  12 119  23  13   2   3\n",
      "   14   5  57   5   6   5  12  13  19   5  12  13  13   2  74  74  74  74\n",
      "   74  74  74  74  74  74  74  74  74  74  74  74  74  74  74  74  74  74\n",
      "   74  74  74  74  74  74  74  74  74  74  74  74  74  74  74  74  74  74\n",
      "   74  74  74  74  74  74  74  74  74  74  74  74  74  74  74  74  74  74\n",
      "   74  74  74  74  74  74  74  74  74  74  74  74  74  74  74  74  74  74\n",
      "   74  74  74  74  74  74  74  74  74  74  74  74  74  74  74  74  74  74\n",
      "   74  74]\n",
      " [ 27  23  12   2  21   5  12  22  23  24   5  13  16   2   9   5  18 173\n",
      "   20  13  16  12   2  14   5  43  18   2   3 152   5  19  58  43  18  12\n",
      "   16  13  13   2  74  74  74  74  74  74  74  74  74  74  74  74  74  74\n",
      "   74  74  74  74  74  74  74  74  74  74  74  74  74  74  74  74  74  74\n",
      "   74  74  74  74  74  74  74  74  74  74  74  74  74  74  74  74  74  74\n",
      "   74  74  74  74  74  74  74  74  74  74  74  74  74  74  74  74  74  74\n",
      "   74  74  74  74  74  74  74  74  74  74  74  74  74  74  74  74  74  74\n",
      "   74  74]], shape=(4, 128), dtype=int64)\n",
      "\n",
      "tf.Tensor(\n",
      "[[100  99 100  99  99 100 100  99  99  99  99 100  99  99 100  99   0   0\n",
      "    0   0   0   0   0   0   0   0   0   0   0   0   0   0   0   0   0   0\n",
      "    0   0   0   0   0   0   0   0   0   0   0   0   0   0   0   0   0   0\n",
      "    0   0   0   0   0   0   0   0   0   0   0   0   0   0   0   0   0   0\n",
      "    0   0   0   0   0   0   0   0   0   0   0   0   0   0   0   0   0   0\n",
      "    0   0   0   0   0   0   0   0   0   0   0   0   0   0   0   0   0   0\n",
      "    0   0   0   0   0   0   0   0   0   0   0   0   0   0   0   0   0   0\n",
      "    0   0]\n",
      " [ 99  99  99 100  99  99  99   0   0   0   0   0   0   0   0   0   0   0\n",
      "    0   0   0   0   0   0   0   0   0   0   0   0   0   0   0   0   0   0\n",
      "    0   0   0   0   0   0   0   0   0   0   0   0   0   0   0   0   0   0\n",
      "    0   0   0   0   0   0   0   0   0   0   0   0   0   0   0   0   0   0\n",
      "    0   0   0   0   0   0   0   0   0   0   0   0   0   0   0   0   0   0\n",
      "    0   0   0   0   0   0   0   0   0   0   0   0   0   0   0   0   0   0\n",
      "    0   0   0   0   0   0   0   0   0   0   0   0   0   0   0   0   0   0\n",
      "    0   0]\n",
      " [100  99  99  99  99 100  99 100  99 100 100  99 100  99 100  99  99 100\n",
      "   99  99  99  99  99  99 100  99  99  99 100  99  99  99   0   0   0   0\n",
      "    0   0   0   0   0   0   0   0   0   0   0   0   0   0   0   0   0   0\n",
      "    0   0   0   0   0   0   0   0   0   0   0   0   0   0   0   0   0   0\n",
      "    0   0   0   0   0   0   0   0   0   0   0   0   0   0   0   0   0   0\n",
      "    0   0   0   0   0   0   0   0   0   0   0   0   0   0   0   0   0   0\n",
      "    0   0   0   0   0   0   0   0   0   0   0   0   0   0   0   0   0   0\n",
      "    0   0]\n",
      " [ 99 100 100  99  99  99 100  99 100  99  99  99  99  99 100  99  99  99\n",
      "   99  99  99 100  99  99  99  99  99  99 100  99  99  99  99  99  99 100\n",
      "   99  99  99  99   0   0   0   0   0   0   0   0   0   0   0   0   0   0\n",
      "    0   0   0   0   0   0   0   0   0   0   0   0   0   0   0   0   0   0\n",
      "    0   0   0   0   0   0   0   0   0   0   0   0   0   0   0   0   0   0\n",
      "    0   0   0   0   0   0   0   0   0   0   0   0   0   0   0   0   0   0\n",
      "    0   0   0   0   0   0   0   0   0   0   0   0   0   0   0   0   0   0\n",
      "    0   0]], shape=(4, 128), dtype=int32)\n"
     ]
    }
   ],
   "source": [
    "\n",
    "x, y_true = next(iter(tf_ds))\n",
    "y_pred = model(x, False)\n",
    "y_pred = tf.nn.softmax(y_pred, axis=-1)\n",
    "y_probs = tf.gather(y_pred, y_true, axis=-1, batch_dims=2)\n",
    "y_pred = tf.math.argmax(y_pred, axis=-1)\n",
    "print(x[:4], y_pred[:4], tf.cast(100*y_probs[:4], dtype=tf.int32), sep='\\n\\n')"
   ]
  },
  {
   "cell_type": "code",
   "execution_count": null,
   "id": "da59122a",
   "metadata": {},
   "outputs": [],
   "source": [
    "model.encoder.variable"
   ]
  },
  {
   "cell_type": "code",
   "execution_count": 11,
   "id": "4d28b215",
   "metadata": {},
   "outputs": [
    {
     "ename": "AttributeError",
     "evalue": "'Net' object has no attribute 'encoder'",
     "output_type": "error",
     "traceback": [
      "\u001b[0;31m---------------------------------------------------------------------------\u001b[0m",
      "\u001b[0;31mAttributeError\u001b[0m                            Traceback (most recent call last)",
      "\u001b[0;32m/tmp/ipykernel_13741/212383083.py\u001b[0m in \u001b[0;36m<module>\u001b[0;34m\u001b[0m\n\u001b[1;32m      1\u001b[0m \u001b[0mmask\u001b[0m \u001b[0;34m=\u001b[0m \u001b[0mtf\u001b[0m\u001b[0;34m.\u001b[0m\u001b[0mcast\u001b[0m\u001b[0;34m(\u001b[0m\u001b[0mtf\u001b[0m\u001b[0;34m.\u001b[0m\u001b[0mmath\u001b[0m\u001b[0;34m.\u001b[0m\u001b[0mequal\u001b[0m\u001b[0;34m(\u001b[0m\u001b[0mx\u001b[0m\u001b[0;34m[\u001b[0m\u001b[0;34m:\u001b[0m\u001b[0;36m1\u001b[0m\u001b[0;34m]\u001b[0m\u001b[0;34m,\u001b[0m \u001b[0;36m0\u001b[0m\u001b[0;34m)\u001b[0m\u001b[0;34m,\u001b[0m \u001b[0mtf\u001b[0m\u001b[0;34m.\u001b[0m\u001b[0mfloat32\u001b[0m\u001b[0;34m)\u001b[0m\u001b[0;34m[\u001b[0m\u001b[0;34m:\u001b[0m\u001b[0;34m,\u001b[0m \u001b[0mtf\u001b[0m\u001b[0;34m.\u001b[0m\u001b[0mnewaxis\u001b[0m\u001b[0;34m,\u001b[0m \u001b[0;34m:\u001b[0m\u001b[0;34m,\u001b[0m \u001b[0mtf\u001b[0m\u001b[0;34m.\u001b[0m\u001b[0mnewaxis\u001b[0m\u001b[0;34m]\u001b[0m\u001b[0;34m\u001b[0m\u001b[0;34m\u001b[0m\u001b[0m\n\u001b[1;32m      2\u001b[0m \u001b[0;34m\u001b[0m\u001b[0m\n\u001b[0;32m----> 3\u001b[0;31m \u001b[0mv\u001b[0m\u001b[0;34m,\u001b[0m \u001b[0mq\u001b[0m \u001b[0;34m=\u001b[0m \u001b[0mmodel\u001b[0m\u001b[0;34m.\u001b[0m\u001b[0menc_embed\u001b[0m\u001b[0;34m(\u001b[0m\u001b[0mx\u001b[0m\u001b[0;34m)\u001b[0m\u001b[0;34m[\u001b[0m\u001b[0;34m:\u001b[0m\u001b[0;36m1\u001b[0m\u001b[0;34m]\u001b[0m\u001b[0;34m,\u001b[0m \u001b[0mmodel\u001b[0m\u001b[0;34m.\u001b[0m\u001b[0mencoder\u001b[0m\u001b[0;34m.\u001b[0m\u001b[0mvariable\u001b[0m\u001b[0;31m#tf.tile(model.encoder.variable, (32, 1, 1))\u001b[0m\u001b[0;34m\u001b[0m\u001b[0;34m\u001b[0m\u001b[0m\n\u001b[0m\u001b[1;32m      4\u001b[0m \u001b[0mv\u001b[0m \u001b[0;34m=\u001b[0m \u001b[0;34m[\u001b[0m\u001b[0mv\u001b[0m\u001b[0;34m]\u001b[0m\u001b[0;34m\u001b[0m\u001b[0;34m\u001b[0m\u001b[0m\n\u001b[1;32m      5\u001b[0m \u001b[0mq\u001b[0m \u001b[0;34m=\u001b[0m \u001b[0;34m[\u001b[0m\u001b[0mq\u001b[0m\u001b[0;34m]\u001b[0m\u001b[0;34m\u001b[0m\u001b[0;34m\u001b[0m\u001b[0m\n",
      "\u001b[0;31mAttributeError\u001b[0m: 'Net' object has no attribute 'encoder'"
     ]
    }
   ],
   "source": [
    "mask = tf.cast(tf.math.equal(x[:1], 0), tf.float32)[:, tf.newaxis, :, tf.newaxis]\n",
    "        \n",
    "v, q = model.enc_embed(x)[:1], model.encoder.variable#tf.tile(model.encoder.variable, (32, 1, 1))\n",
    "v = [v]\n",
    "q = [q]\n",
    "attention = []\n",
    "for l in model.encoder.layers:\n",
    "    _v, _q, _att = l(v[-1], q[-1], mask, False)\n",
    "    v.append(_v)\n",
    "    q.append(_q)\n",
    "    attention.append(_att)\n",
    "    "
   ]
  },
  {
   "cell_type": "code",
   "execution_count": null,
   "id": "b633f062",
   "metadata": {},
   "outputs": [],
   "source": [
    "v"
   ]
  },
  {
   "cell_type": "code",
   "execution_count": null,
   "id": "fc0e4c48",
   "metadata": {},
   "outputs": [],
   "source": [
    "attention[0]"
   ]
  },
  {
   "cell_type": "code",
   "execution_count": null,
   "id": "4bd29ad1",
   "metadata": {},
   "outputs": [],
   "source": [
    "q"
   ]
  },
  {
   "cell_type": "code",
   "execution_count": null,
   "id": "6773a0fe",
   "metadata": {},
   "outputs": [],
   "source": [
    "tf.ones((32, 4, 128, 128))"
   ]
  },
  {
   "cell_type": "code",
   "execution_count": null,
   "id": "fbc2ca83",
   "metadata": {},
   "outputs": [],
   "source": [
    "def eigenRank(tensor):\n",
    "    batch_shape = tf.shape(tensor)[:-2]\n",
    "    matrix_shape = tf.shape(tensor)[-2:]\n",
    "    l = len(batch_shape)\n",
    "    print(tensor.shape)\n",
    "    if matrix_shape[0]>matrix_shape[1]: tensor = tf.transpose(tensor, tuple(i for i in range(l)) + (l+1, l))\n",
    "    M = tf.matmul(tensor, tensor, transpose_b = True)\n",
    "    print(tensor.shape, M.shape)\n",
    "    trace = tf.linalg.trace(M)\n",
    "    M_squared = tf.matmul(M, M)\n",
    "    print(M_squared.shape)\n",
    "    trace_squared = tf.linalg.trace(M_squared)\n",
    "    return (trace**2)/trace_squared"
   ]
  },
  {
   "cell_type": "code",
   "execution_count": null,
   "id": "35a5c5b0",
   "metadata": {},
   "outputs": [],
   "source": [
    "att = attention[0][0]"
   ]
  },
  {
   "cell_type": "code",
   "execution_count": null,
   "id": "880f8bd9",
   "metadata": {},
   "outputs": [],
   "source": [
    "eigenRank(tf.random.uniform(\n",
    "            (4,8, 128, 128), minval=0, maxval=1, dtype=tf.dtypes.float32, seed=420, name=None))"
   ]
  },
  {
   "cell_type": "code",
   "execution_count": 12,
   "id": "32453501",
   "metadata": {},
   "outputs": [],
   "source": [
    "mask = tf.cast(tf.math.equal(x[:1], 0), tf.float32)[:, tf.newaxis, :, tf.newaxis]\n",
    "        \n",
    "v = model.enc_embed(x)[:]#, model.encoder.variable#tf.tile(model.encoder.variable, (32, 1, 1))\n",
    "vs = [v]\n",
    "att = []\n",
    "for mha, sl in zip(model.mha_layers, model.sl_layers):\n",
    "    v, a = mha(v, v, v, mask)\n",
    "    v = sl(v)\n",
    "    vs.append(v)\n",
    "    att.append(a)"
   ]
  },
  {
   "cell_type": "code",
   "execution_count": 13,
   "id": "f5ef2256",
   "metadata": {},
   "outputs": [
    {
     "data": {
      "text/plain": [
       "<tf.Tensor: shape=(8, 1, 16), dtype=float32, numpy=\n",
       "array([[[ 3.7213912 , -0.7112645 , -4.4756722 ,  1.626818  ,\n",
       "          0.8056078 ,  0.39228967, -3.0185008 ,  0.31752035,\n",
       "          1.1245883 , -2.2758284 ,  4.467935  , -3.7383752 ,\n",
       "          2.628587  ,  2.4846663 , -1.272466  , -0.92475677]],\n",
       "\n",
       "       [[ 3.746252  , -0.7378752 , -4.436506  ,  1.6601193 ,\n",
       "          0.6722908 ,  0.30658576, -3.0545259 ,  0.5480538 ,\n",
       "          1.4075805 , -2.3046896 ,  4.3409038 , -3.8680487 ,\n",
       "          2.7130494 ,  2.1996963 , -1.282106  , -0.7686895 ]],\n",
       "\n",
       "       [[ 3.7912145 , -0.727296  , -4.433284  ,  1.6391497 ,\n",
       "          0.66551423,  0.487097  , -2.9748242 ,  0.38291657,\n",
       "          0.9985702 , -2.3025029 ,  4.335533  , -3.902844  ,\n",
       "          2.7539275 ,  2.3473566 , -1.1840688 , -0.73992777]],\n",
       "\n",
       "       [[ 3.6512928 , -1.3532753 , -4.4880314 ,  2.084999  ,\n",
       "          0.8288431 ,  0.41406146, -2.8436046 ,  0.59227216,\n",
       "          0.82978785, -2.008383  ,  4.317675  , -3.7560482 ,\n",
       "          2.3851287 ,  2.8465292 , -1.0946883 , -1.2410207 ]],\n",
       "\n",
       "       [[ 3.7172523 , -1.1804937 , -4.41931   ,  1.9179332 ,\n",
       "          0.7168977 ,  0.4051015 , -2.9491932 ,  0.61403215,\n",
       "          0.9932895 , -2.089512  ,  4.360122  , -3.7514615 ,\n",
       "          2.4745522 ,  2.6956897 , -1.2302587 , -1.1226127 ]],\n",
       "\n",
       "       [[ 3.78835   , -0.8766278 , -4.422178  ,  1.7659571 ,\n",
       "          0.855857  ,  0.53397346, -2.9721942 ,  0.25410104,\n",
       "          0.8587853 , -2.1706707 ,  4.4223495 , -3.604198  ,\n",
       "          2.3433578 ,  2.87442   , -1.4447246 , -1.0426974 ]],\n",
       "\n",
       "       [[ 3.766006  , -0.9044969 , -4.5063286 ,  1.6564329 ,\n",
       "          0.6179277 ,  0.33493987, -2.9422805 ,  0.5968341 ,\n",
       "          1.08942   , -2.2110474 ,  4.3666234 , -3.763339  ,\n",
       "          2.7248762 ,  2.4155607 , -1.2810665 , -0.8221152 ]],\n",
       "\n",
       "       [[ 3.7464075 , -0.8991648 , -4.4561787 ,  1.8145816 ,\n",
       "          0.8413613 ,  0.45325598, -2.983408  ,  0.32824007,\n",
       "          0.9714401 , -2.1949763 ,  4.39525   , -3.699234  ,\n",
       "          2.4489946 ,  2.7267718 , -1.2825416 , -1.0507486 ]]],\n",
       "      dtype=float32)>"
      ]
     },
     "execution_count": 13,
     "metadata": {},
     "output_type": "execute_result"
    }
   ],
   "source": [
    "z = vs[-1][:8, :1, :16]\n",
    "z"
   ]
  },
  {
   "cell_type": "code",
   "execution_count": 14,
   "id": "057ab246",
   "metadata": {},
   "outputs": [],
   "source": [
    "z = z - z[:, :1, :]"
   ]
  },
  {
   "cell_type": "code",
   "execution_count": 15,
   "id": "282b3fbd",
   "metadata": {},
   "outputs": [
    {
     "data": {
      "text/plain": [
       "<tf.Tensor: shape=(), dtype=float32, numpy=0.0>"
      ]
     },
     "execution_count": 15,
     "metadata": {},
     "output_type": "execute_result"
    }
   ],
   "source": [
    "tf.reduce_sum(tf.cast(z>0.001, tf.float32))"
   ]
  },
  {
   "cell_type": "code",
   "execution_count": 16,
   "id": "d177c501",
   "metadata": {},
   "outputs": [
    {
     "data": {
      "text/plain": [
       "<tf.Tensor: shape=(1, 1, 16, 16), dtype=float32, numpy=\n",
       "array([[[[0.00639094, 0.00622164, 0.00810817, 0.00718671, 0.0070347 ,\n",
       "          0.00790245, 0.00639094, 0.00622164, 0.00558972, 0.00718671,\n",
       "          0.0070347 , 0.00639094, 0.00622164, 0.00558972, 0.00810817,\n",
       "          0.0070347 ],\n",
       "         [0.0064485 , 0.00622864, 0.00802322, 0.00725437, 0.00698567,\n",
       "          0.00793549, 0.0064485 , 0.00622864, 0.00554249, 0.00725437,\n",
       "          0.00698567, 0.0064485 , 0.00622864, 0.00554249, 0.00802322,\n",
       "          0.00698567],\n",
       "         [0.00629238, 0.00614494, 0.00805171, 0.0071684 , 0.00695611,\n",
       "          0.00796347, 0.00629238, 0.00614494, 0.00541826, 0.0071684 ,\n",
       "          0.00695611, 0.00629238, 0.00614494, 0.00541826, 0.00805171,\n",
       "          0.00695611],\n",
       "         [0.00642512, 0.00625386, 0.00805964, 0.00725787, 0.00703859,\n",
       "          0.00794166, 0.00642512, 0.00625386, 0.00554446, 0.00725787,\n",
       "          0.00703859, 0.00642512, 0.00625386, 0.00554446, 0.00805964,\n",
       "          0.00703859],\n",
       "         [0.0064489 , 0.00626617, 0.00807252, 0.00727529, 0.00701041,\n",
       "          0.00799107, 0.0064489 , 0.00626617, 0.00558355, 0.00727529,\n",
       "          0.00701041, 0.0064489 , 0.00626617, 0.00558355, 0.00807252,\n",
       "          0.00701041],\n",
       "         [0.00643305, 0.00630058, 0.00809963, 0.00726498, 0.00704   ,\n",
       "          0.00797429, 0.00643305, 0.00630058, 0.00559483, 0.00726498,\n",
       "          0.00704   , 0.00643305, 0.00630058, 0.00559483, 0.00809963,\n",
       "          0.00704   ],\n",
       "         [0.00639094, 0.00622164, 0.00810817, 0.00718671, 0.0070347 ,\n",
       "          0.00790245, 0.00639094, 0.00622164, 0.00558972, 0.00718671,\n",
       "          0.0070347 , 0.00639094, 0.00622164, 0.00558972, 0.00810817,\n",
       "          0.0070347 ],\n",
       "         [0.0064485 , 0.00622864, 0.00802322, 0.00725437, 0.00698567,\n",
       "          0.00793549, 0.0064485 , 0.00622864, 0.00554249, 0.00725437,\n",
       "          0.00698567, 0.0064485 , 0.00622864, 0.00554249, 0.00802322,\n",
       "          0.00698567],\n",
       "         [0.0063904 , 0.00621751, 0.00811515, 0.00724978, 0.00697372,\n",
       "          0.00805776, 0.0063904 , 0.00621751, 0.00545982, 0.00724978,\n",
       "          0.00697372, 0.0063904 , 0.00621751, 0.00545982, 0.00811515,\n",
       "          0.00697372],\n",
       "         [0.00642512, 0.00625386, 0.00805964, 0.00725787, 0.00703859,\n",
       "          0.00794166, 0.00642512, 0.00625386, 0.00554446, 0.00725787,\n",
       "          0.00703859, 0.00642512, 0.00625386, 0.00554446, 0.00805964,\n",
       "          0.00703859],\n",
       "         [0.0064489 , 0.00626617, 0.00807252, 0.00727529, 0.00701041,\n",
       "          0.00799107, 0.0064489 , 0.00626617, 0.00558355, 0.00727529,\n",
       "          0.00701041, 0.0064489 , 0.00626617, 0.00558355, 0.00807252,\n",
       "          0.00701041],\n",
       "         [0.00639094, 0.00622164, 0.00810817, 0.00718671, 0.0070347 ,\n",
       "          0.00790245, 0.00639094, 0.00622164, 0.00558972, 0.00718671,\n",
       "          0.0070347 , 0.00639094, 0.00622164, 0.00558972, 0.00810817,\n",
       "          0.0070347 ],\n",
       "         [0.0064485 , 0.00622864, 0.00802322, 0.00725437, 0.00698567,\n",
       "          0.00793549, 0.0064485 , 0.00622864, 0.00554249, 0.00725437,\n",
       "          0.00698567, 0.0064485 , 0.00622864, 0.00554249, 0.00802322,\n",
       "          0.00698567],\n",
       "         [0.0063904 , 0.00621751, 0.00811515, 0.00724978, 0.00697372,\n",
       "          0.00805776, 0.0063904 , 0.00621751, 0.00545982, 0.00724978,\n",
       "          0.00697372, 0.0063904 , 0.00621751, 0.00545982, 0.00811515,\n",
       "          0.00697372],\n",
       "         [0.00629238, 0.00614494, 0.00805171, 0.0071684 , 0.00695611,\n",
       "          0.00796347, 0.00629238, 0.00614494, 0.00541826, 0.0071684 ,\n",
       "          0.00695611, 0.00629238, 0.00614494, 0.00541826, 0.00805171,\n",
       "          0.00695611],\n",
       "         [0.0064489 , 0.00626617, 0.00807252, 0.00727529, 0.00701041,\n",
       "          0.00799107, 0.0064489 , 0.00626617, 0.00558355, 0.00727529,\n",
       "          0.00701041, 0.0064489 , 0.00626617, 0.00558355, 0.00807252,\n",
       "          0.00701041]]]], dtype=float32)>"
      ]
     },
     "execution_count": 16,
     "metadata": {},
     "output_type": "execute_result"
    }
   ],
   "source": [
    "att[0][:1, :1, :16, :16]"
   ]
  },
  {
   "cell_type": "code",
   "execution_count": 24,
   "id": "ae4dd682",
   "metadata": {},
   "outputs": [
    {
     "data": {
      "text/plain": [
       "<tf.Tensor: shape=(24, 32), dtype=int32, numpy=\n",
       "array([[0, 0, 0, 0, 0, 0, 0, 0, 0, 0, 0, 0, 0, 0, 0, 0, 0, 0, 0, 0, 0, 0,\n",
       "        0, 0, 0, 0, 0, 0, 0, 0, 0, 0],\n",
       "       [0, 0, 0, 0, 0, 0, 0, 0, 0, 0, 0, 0, 0, 0, 0, 0, 0, 0, 0, 0, 0, 0,\n",
       "        0, 0, 0, 0, 0, 0, 0, 0, 0, 0],\n",
       "       [0, 0, 0, 0, 0, 0, 0, 0, 0, 0, 0, 0, 0, 0, 0, 0, 0, 0, 1, 0, 0, 0,\n",
       "        0, 0, 0, 0, 0, 0, 0, 0, 1, 0],\n",
       "       [0, 0, 0, 0, 0, 0, 0, 0, 0, 0, 0, 1, 0, 0, 0, 0, 0, 0, 0, 0, 0, 0,\n",
       "        0, 0, 0, 0, 0, 1, 0, 0, 0, 0],\n",
       "       [0, 0, 0, 0, 0, 0, 1, 0, 1, 0, 0, 0, 0, 1, 0, 0, 0, 0, 0, 1, 0, 0,\n",
       "        0, 0, 0, 0, 0, 0, 0, 0, 0, 0],\n",
       "       [0, 1, 0, 0, 0, 0, 0, 0, 0, 0, 0, 0, 0, 0, 1, 0, 0, 0, 0, 0, 0, 0,\n",
       "        1, 0, 0, 0, 0, 0, 0, 0, 0, 0],\n",
       "       [0, 0, 1, 0, 0, 0, 0, 0, 0, 1, 0, 0, 0, 0, 0, 0, 0, 1, 0, 0, 0, 0,\n",
       "        0, 0, 0, 0, 0, 0, 0, 0, 0, 0],\n",
       "       [0, 0, 0, 0, 0, 0, 0, 0, 0, 0, 1, 0, 1, 0, 0, 0, 0, 0, 0, 0, 0, 0,\n",
       "        0, 0, 1, 1, 0, 0, 0, 0, 0, 0],\n",
       "       [0, 1, 0, 1, 0, 1, 0, 0, 0, 1, 0, 0, 0, 0, 0, 0, 0, 0, 0, 0, 0, 0,\n",
       "        0, 0, 0, 0, 0, 0, 0, 0, 0, 1],\n",
       "       [0, 0, 0, 0, 0, 0, 0, 0, 0, 0, 0, 0, 0, 0, 0, 0, 0, 0, 0, 0, 0, 1,\n",
       "        0, 0, 0, 0, 0, 0, 0, 0, 0, 0],\n",
       "       [0, 0, 0, 0, 0, 0, 1, 0, 0, 0, 0, 0, 0, 0, 0, 1, 0, 0, 0, 0, 0, 0,\n",
       "        0, 0, 0, 0, 0, 0, 0, 0, 0, 0],\n",
       "       [0, 0, 0, 0, 0, 0, 0, 0, 0, 1, 0, 0, 0, 0, 0, 1, 0, 0, 0, 0, 0, 0,\n",
       "        0, 0, 0, 1, 0, 0, 0, 0, 0, 0],\n",
       "       [0, 0, 0, 1, 0, 0, 0, 0, 0, 0, 0, 0, 0, 0, 0, 0, 0, 0, 0, 0, 0, 0,\n",
       "        0, 0, 0, 0, 0, 0, 0, 0, 0, 0],\n",
       "       [0, 0, 0, 0, 0, 0, 1, 0, 0, 0, 0, 0, 0, 0, 0, 0, 0, 0, 0, 0, 0, 0,\n",
       "        0, 0, 0, 0, 0, 0, 0, 0, 0, 0],\n",
       "       [0, 0, 0, 0, 0, 0, 0, 0, 0, 0, 0, 0, 0, 1, 0, 0, 0, 0, 0, 0, 0, 0,\n",
       "        0, 1, 0, 0, 0, 0, 0, 0, 0, 0],\n",
       "       [0, 0, 0, 0, 0, 0, 0, 0, 0, 0, 0, 0, 0, 0, 0, 0, 0, 0, 0, 0, 0, 0,\n",
       "        0, 0, 0, 0, 0, 0, 0, 0, 1, 1],\n",
       "       [0, 0, 0, 0, 0, 0, 0, 0, 0, 0, 0, 0, 1, 0, 0, 0, 0, 0, 1, 0, 0, 0,\n",
       "        0, 0, 0, 0, 0, 0, 0, 0, 0, 0],\n",
       "       [0, 0, 0, 0, 1, 0, 0, 0, 0, 0, 0, 0, 0, 0, 0, 0, 0, 0, 0, 0, 0, 0,\n",
       "        0, 0, 0, 0, 0, 0, 0, 0, 0, 0],\n",
       "       [0, 0, 0, 0, 0, 0, 0, 0, 0, 0, 0, 0, 0, 0, 0, 0, 0, 0, 0, 0, 0, 0,\n",
       "        0, 0, 0, 0, 0, 1, 0, 0, 0, 0],\n",
       "       [0, 0, 0, 0, 0, 0, 0, 0, 0, 0, 0, 0, 0, 1, 0, 0, 0, 0, 0, 0, 0, 0,\n",
       "        0, 0, 0, 0, 0, 0, 0, 0, 0, 0],\n",
       "       [0, 0, 0, 0, 0, 0, 0, 0, 0, 0, 1, 0, 0, 0, 0, 0, 0, 0, 0, 0, 0, 0,\n",
       "        0, 0, 0, 0, 0, 0, 0, 0, 0, 0],\n",
       "       [0, 1, 0, 0, 0, 0, 1, 0, 0, 0, 0, 0, 0, 0, 0, 0, 0, 0, 0, 0, 0, 0,\n",
       "        0, 0, 0, 0, 0, 0, 0, 0, 0, 0],\n",
       "       [0, 0, 0, 0, 0, 0, 0, 0, 1, 0, 0, 0, 0, 0, 0, 0, 0, 0, 0, 0, 0, 0,\n",
       "        0, 0, 0, 0, 0, 0, 0, 0, 0, 0],\n",
       "       [0, 0, 0, 0, 0, 0, 0, 0, 0, 0, 0, 0, 0, 0, 0, 0, 0, 0, 0, 0, 1, 0,\n",
       "        0, 0, 0, 0, 0, 0, 0, 0, 0, 0]], dtype=int32)>"
      ]
     },
     "execution_count": 24,
     "metadata": {},
     "output_type": "execute_result"
    }
   ],
   "source": [
    "import tensorflow_probability as tfp\n",
    "\n",
    "normal = tfp.distributions.Normal(tf.zeros((32)),  tf.ones((32)))\n",
    "x = tf.cast(tf.math.softmax(normal.sample(24)*tf.constant([[(i+1)*0.4] for i in range(24)]), axis=-1)>0.1, tf.int32)\n"
   ]
  },
  {
   "cell_type": "code",
   "execution_count": null,
   "id": "b423b84d",
   "metadata": {},
   "outputs": [],
   "source": []
  }
 ],
 "metadata": {
  "kernelspec": {
   "display_name": "Python 3 (ipykernel)",
   "language": "python",
   "name": "python3"
  },
  "language_info": {
   "codemirror_mode": {
    "name": "ipython",
    "version": 3
   },
   "file_extension": ".py",
   "mimetype": "text/x-python",
   "name": "python",
   "nbconvert_exporter": "python",
   "pygments_lexer": "ipython3",
   "version": "3.7.10"
  }
 },
 "nbformat": 4,
 "nbformat_minor": 5
}
