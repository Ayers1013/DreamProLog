{
 "cells": [
  {
   "cell_type": "code",
   "execution_count": 1,
   "id": "driven-humanity",
   "metadata": {},
   "outputs": [],
   "source": [
    "from Env_ProLog import ProLog\n",
    "import numpy as np"
   ]
  },
  {
   "cell_type": "code",
   "execution_count": 2,
   "id": "described-information",
   "metadata": {},
   "outputs": [],
   "source": [
    "env=ProLog()"
   ]
  },
  {
   "cell_type": "code",
   "execution_count": 28,
   "id": "contrary-multiple",
   "metadata": {},
   "outputs": [],
   "source": [
    "def step(k):\n",
    "    a=np.zeros(env.ext_action_size)\n",
    "    a[k]=1.0\n",
    "    \n",
    "    action=a\n",
    "    if(action.shape!=(1)):\n",
    "        action=np.argmax(action)\n",
    "    \n",
    "    if(env.gnnInput[4][action]==0):\n",
    "        action=-1\n",
    "    elif(action==0):\n",
    "        action=0\n",
    "    else:\n",
    "        action=np.array(env.gnnInput[4][:action]).sum()\n",
    "    \n",
    "    print(action, end=\"\\n\"+\"_\"*50+\"\\n\")\n",
    "    print(env.simple_features, end=\"\\n\"+\"_\"*50+\"\\n\")\n",
    "    \n",
    "    print(*env.step(a),sep='\\n', end=\"\\n\"+\"_\"*50+\"\\n\")\n",
    "    print(*env.gnnInput,sep='\\n', end=\"\\n\"+\"_\"*50+\"\\n\")\n",
    "    \n",
    "def rt():\n",
    "    env.reset()\n",
    "    print(*env.gnnInput,sep='\\n')"
   ]
  },
  {
   "cell_type": "code",
   "execution_count": 29,
   "id": "characteristic-carnival",
   "metadata": {},
   "outputs": [
    {
     "name": "stdout",
     "output_type": "stream",
     "text": [
      "[Atom('62469'), Atom('223109')]\n",
      "[]\n",
      "[[Atom('62469'), Atom('223109')]]\n",
      "[[Atom('381189'), [Atom('62469'), [Atom('741253'), Atom('311557')]]], [[Atom('741253'), Atom('427269')], [Atom('62469'), Atom('381189')]], [Atom('223109'), Atom('381189'), [Atom('741253'), Variable(123)]], [[Atom('62469'), Atom('381189')], [Atom('62469'), [Atom('741253'), Variable(139)]]]]\n",
      "[0, 0, 0, 0, 1, 0, 0, 0, 0]\n",
      "[0]\n",
      "0\n",
      "__________________________________________________\n",
      "[1, 4, 4, 2, 0, 1, 1, 1, 0, 0, 0, 0, 0, 10000]\n",
      "__________________________________________________\n",
      "{'image': array([0.1, 0.1, 0.1, 0.1, 0.1, 0.1, 0.1, 0.1, 0.1, 0.1, 0.1, 0.1, 0.1,\n",
      "       0.1, 0.1, 0.1])}\n",
      "0.01\n",
      "False\n",
      "{}\n",
      "__________________________________________________\n",
      "p\n",
      "[[Atom('62469'), Atom('223109')]]\n",
      "[Atom('381189'), [Atom('741253'), Variable(87)]]\n",
      "[[Atom('381189'), [Atom('62469'), [Atom('741253'), Atom('311557')]]], [[Atom('741253'), Atom('427269')], [Atom('62469'), Atom('381189')]], [Atom('223109'), Atom('381189'), [Atom('741253'), Variable(125)]], [[Atom('62469'), Atom('381189')], [Atom('62469'), [Atom('741253'), Variable(141)]]]]\n",
      "[0, 0, 0, 1, 0, 0, 0, 1, 0]\n",
      "[0, 1]\n",
      "__________________________________________________\n",
      "1\n",
      "__________________________________________________\n",
      "[1, 6, 6, 3, 1, 2, 1, 2, 1, 1, 1, 0, 1, 1]\n",
      "__________________________________________________\n",
      "{'image': array([0.2, 0.2, 0.2, 0.2, 0.2, 0.2, 0.2, 0.2, 0.2, 0.2, 0.2, 0.2, 0.2,\n",
      "       0.2, 0.2, 0.2])}\n",
      "0.01\n",
      "False\n",
      "{}\n",
      "__________________________________________________\n",
      "[Atom('62469'), [Atom('741253'), Variable(78)]]\n",
      "[Atom('381189'), [Atom('62469'), Atom('223109')]]\n",
      "[[Atom('741253'), Variable(95)], [Atom('62469'), [Atom('741253'), Variable(103)]]]\n",
      "[[Atom('381189'), [Atom('62469'), [Atom('741253'), Atom('311557')]]], [[Atom('741253'), Atom('427269')], [Atom('62469'), Atom('381189')]], [Atom('223109'), Atom('381189'), [Atom('741253'), Variable(142)]], [[Atom('62469'), Atom('381189')], [Atom('62469'), [Atom('741253'), Variable(158)]]]]\n",
      "[0, 0, 1, 0, 0, 0, 1, 0, 0]\n",
      "[0, 1]\n",
      "__________________________________________________\n",
      "0\n",
      "__________________________________________________\n",
      "[2, 9, 5, 3, 2, 2, 2, 3, 2, 2, 2, 0, 1, 1]\n",
      "__________________________________________________\n",
      "{'image': array([0.3, 0.3, 0.3, 0.3, 0.3, 0.3, 0.3, 0.3, 0.3, 0.3, 0.3, 0.3, 0.3,\n",
      "       0.3, 0.3, 0.3])}\n",
      "0.01\n",
      "False\n",
      "{}\n",
      "__________________________________________________\n",
      "[Atom('741253'), Variable(75)]\n",
      "[[Atom('62469'), Atom('223109')]]\n",
      "[[Atom('741253'), Variable(90)]]\n",
      "[[Atom('381189'), [Atom('62469'), [Atom('741253'), Atom('311557')]]], [[Atom('741253'), Atom('427269')], [Atom('62469'), Atom('381189')]], [Atom('223109'), Atom('381189'), [Atom('741253'), Variable(128)]], [[Atom('62469'), Atom('381189')], [Atom('62469'), [Atom('741253'), Variable(144)]]]]\n",
      "[0, 1, 0, 0, 0, 0, 0, 0, 1]\n",
      "[0, 1]\n",
      "__________________________________________________\n",
      "1\n",
      "__________________________________________________\n",
      "[1, 4, 4, 2, 1, 1, 1, 2, 1, 1, 1, 0, 1, 1]\n",
      "__________________________________________________\n",
      "{'image': array([0.4, 0.4, 0.4, 0.4, 0.4, 0.4, 0.4, 0.4, 0.4, 0.4, 0.4, 0.4, 0.4,\n",
      "       0.4, 0.4, 0.4])}\n",
      "0.01\n",
      "False\n",
      "{}\n",
      "__________________________________________________\n",
      "[Atom('62469'), Atom('381189')]\n",
      "[[Atom('741253'), Variable(82)], [Atom('62469'), Atom('223109')]]\n",
      "[[Atom('62469'), Atom('381189')]]\n",
      "[[Atom('381189'), [Atom('62469'), [Atom('741253'), Atom('311557')]]], [[Atom('741253'), Atom('427269')], [Atom('62469'), Atom('381189')]], [Atom('223109'), Atom('381189'), [Atom('741253'), Variable(133)]], [[Atom('62469'), Atom('381189')], [Atom('62469'), [Atom('741253'), Variable(149)]]]]\n",
      "[1, 0, 0, 0, 0, 1, 0, 0, 0]\n",
      "[0, 1]\n",
      "__________________________________________________\n",
      "0\n",
      "__________________________________________________\n",
      "[1, 4, 4, 2, 2, 1, 1, 2, 0, 0, 0, 0, 0, 10000]\n",
      "__________________________________________________\n"
     ]
    },
    {
     "ename": "PrologError",
     "evalue": "Caused by: 'step_python(0.0, GnnInput, SimpleFeatures, Result)'. Returned: 'error(type_error(integer, 0.0), Variable(70))'.",
     "output_type": "error",
     "traceback": [
      "\u001b[1;31m---------------------------------------------------------------------------\u001b[0m",
      "\u001b[1;31mPrologError\u001b[0m                               Traceback (most recent call last)",
      "\u001b[1;32m<ipython-input-29-a45e78b1acad>\u001b[0m in \u001b[0;36m<module>\u001b[1;34m\u001b[0m\n\u001b[0;32m      4\u001b[0m \u001b[0mstep\u001b[0m\u001b[1;33m(\u001b[0m\u001b[1;36m2\u001b[0m\u001b[1;33m)\u001b[0m\u001b[1;33m\u001b[0m\u001b[1;33m\u001b[0m\u001b[0m\n\u001b[0;32m      5\u001b[0m \u001b[0mstep\u001b[0m\u001b[1;33m(\u001b[0m\u001b[1;36m8\u001b[0m\u001b[1;33m)\u001b[0m\u001b[1;33m\u001b[0m\u001b[1;33m\u001b[0m\u001b[0m\n\u001b[1;32m----> 6\u001b[1;33m \u001b[0mstep\u001b[0m\u001b[1;33m(\u001b[0m\u001b[1;36m0\u001b[0m\u001b[1;33m)\u001b[0m\u001b[1;33m\u001b[0m\u001b[1;33m\u001b[0m\u001b[0m\n\u001b[0m",
      "\u001b[1;32m<ipython-input-28-bbfc51944b79>\u001b[0m in \u001b[0;36mstep\u001b[1;34m(k)\u001b[0m\n\u001b[0;32m     17\u001b[0m     \u001b[0mprint\u001b[0m\u001b[1;33m(\u001b[0m\u001b[0menv\u001b[0m\u001b[1;33m.\u001b[0m\u001b[0msimple_features\u001b[0m\u001b[1;33m,\u001b[0m \u001b[0mend\u001b[0m\u001b[1;33m=\u001b[0m\u001b[1;34m\"\\n\"\u001b[0m\u001b[1;33m+\u001b[0m\u001b[1;34m\"_\"\u001b[0m\u001b[1;33m*\u001b[0m\u001b[1;36m50\u001b[0m\u001b[1;33m+\u001b[0m\u001b[1;34m\"\\n\"\u001b[0m\u001b[1;33m)\u001b[0m\u001b[1;33m\u001b[0m\u001b[1;33m\u001b[0m\u001b[0m\n\u001b[0;32m     18\u001b[0m \u001b[1;33m\u001b[0m\u001b[0m\n\u001b[1;32m---> 19\u001b[1;33m     \u001b[0mprint\u001b[0m\u001b[1;33m(\u001b[0m\u001b[1;33m*\u001b[0m\u001b[0menv\u001b[0m\u001b[1;33m.\u001b[0m\u001b[0mstep\u001b[0m\u001b[1;33m(\u001b[0m\u001b[0ma\u001b[0m\u001b[1;33m)\u001b[0m\u001b[1;33m,\u001b[0m\u001b[0msep\u001b[0m\u001b[1;33m=\u001b[0m\u001b[1;34m'\\n'\u001b[0m\u001b[1;33m,\u001b[0m \u001b[0mend\u001b[0m\u001b[1;33m=\u001b[0m\u001b[1;34m\"\\n\"\u001b[0m\u001b[1;33m+\u001b[0m\u001b[1;34m\"_\"\u001b[0m\u001b[1;33m*\u001b[0m\u001b[1;36m50\u001b[0m\u001b[1;33m+\u001b[0m\u001b[1;34m\"\\n\"\u001b[0m\u001b[1;33m)\u001b[0m\u001b[1;33m\u001b[0m\u001b[1;33m\u001b[0m\u001b[0m\n\u001b[0m\u001b[0;32m     20\u001b[0m     \u001b[0mprint\u001b[0m\u001b[1;33m(\u001b[0m\u001b[1;33m*\u001b[0m\u001b[0menv\u001b[0m\u001b[1;33m.\u001b[0m\u001b[0mgnnInput\u001b[0m\u001b[1;33m,\u001b[0m\u001b[0msep\u001b[0m\u001b[1;33m=\u001b[0m\u001b[1;34m'\\n'\u001b[0m\u001b[1;33m,\u001b[0m \u001b[0mend\u001b[0m\u001b[1;33m=\u001b[0m\u001b[1;34m\"\\n\"\u001b[0m\u001b[1;33m+\u001b[0m\u001b[1;34m\"_\"\u001b[0m\u001b[1;33m*\u001b[0m\u001b[1;36m50\u001b[0m\u001b[1;33m+\u001b[0m\u001b[1;34m\"\\n\"\u001b[0m\u001b[1;33m)\u001b[0m\u001b[1;33m\u001b[0m\u001b[1;33m\u001b[0m\u001b[0m\n\u001b[0;32m     21\u001b[0m \u001b[1;33m\u001b[0m\u001b[0m\n",
      "\u001b[1;32m~\\Space\\codes\\AI projets\\DreamProLog\\Env_ProLog.py\u001b[0m in \u001b[0;36mstep\u001b[1;34m(self, action)\u001b[0m\n\u001b[0;32m     99\u001b[0m         \u001b[1;31m# print(action)\u001b[0m\u001b[1;33m\u001b[0m\u001b[1;33m\u001b[0m\u001b[1;33m\u001b[0m\u001b[0m\n\u001b[0;32m    100\u001b[0m \u001b[1;33m\u001b[0m\u001b[0m\n\u001b[1;32m--> 101\u001b[1;33m         \u001b[0mquery\u001b[0m \u001b[1;33m=\u001b[0m \u001b[1;34m'step_python({}, GnnInput, SimpleFeatures, Result)'\u001b[0m\u001b[1;33m.\u001b[0m\u001b[0mformat\u001b[0m\u001b[1;33m(\u001b[0m\u001b[0maction\u001b[0m\u001b[1;33m)\u001b[0m\u001b[1;33m\u001b[0m\u001b[1;33m\u001b[0m\u001b[0m\n\u001b[0m\u001b[0;32m    102\u001b[0m         \u001b[1;31m#print(\"Query:\\n   \", query, \"\\n\")\u001b[0m\u001b[1;33m\u001b[0m\u001b[1;33m\u001b[0m\u001b[1;33m\u001b[0m\u001b[0m\n\u001b[0;32m    103\u001b[0m         \u001b[0mresult\u001b[0m \u001b[1;33m=\u001b[0m \u001b[0mlist\u001b[0m\u001b[1;33m(\u001b[0m\u001b[0mself\u001b[0m\u001b[1;33m.\u001b[0m\u001b[0mprolog\u001b[0m\u001b[1;33m.\u001b[0m\u001b[0mquery\u001b[0m\u001b[1;33m(\u001b[0m\u001b[0mquery\u001b[0m\u001b[1;33m)\u001b[0m\u001b[1;33m)\u001b[0m\u001b[1;33m\u001b[0m\u001b[1;33m\u001b[0m\u001b[0m\n",
      "\u001b[1;32m~\\AppData\\Roaming\\Python\\Python37\\site-packages\\pyswip\\prolog.py\u001b[0m in \u001b[0;36m__call__\u001b[1;34m(self, query, maxresult, catcherrors, normalize)\u001b[0m\n\u001b[0;32m    125\u001b[0m \u001b[1;33m\u001b[0m\u001b[0m\n\u001b[0;32m    126\u001b[0m                     raise PrologError(\"\".join([\"Caused by: '\", query, \"'. \",\n\u001b[1;32m--> 127\u001b[1;33m                                                \"Returned: '\", str(term), \"'.\"]))\n\u001b[0m\u001b[0;32m    128\u001b[0m \u001b[1;33m\u001b[0m\u001b[0m\n\u001b[0;32m    129\u001b[0m             \u001b[1;32mfinally\u001b[0m\u001b[1;33m:\u001b[0m \u001b[1;31m# This ensures that, whatever happens, we close the query\u001b[0m\u001b[1;33m\u001b[0m\u001b[1;33m\u001b[0m\u001b[0m\n",
      "\u001b[1;31mPrologError\u001b[0m: Caused by: 'step_python(0.0, GnnInput, SimpleFeatures, Result)'. Returned: 'error(type_error(integer, 0.0), Variable(70))'."
     ]
    }
   ],
   "source": [
    "rt()\n",
    "step(4)\n",
    "step(7)\n",
    "step(2)\n",
    "step(8)\n",
    "step(0)"
   ]
  },
  {
   "cell_type": "code",
   "execution_count": 11,
   "id": "surgical-shuttle",
   "metadata": {},
   "outputs": [
    {
     "name": "stdout",
     "output_type": "stream",
     "text": [
      "[Atom('62469'), Atom('223109')]\n",
      "[]\n",
      "[[Atom('62469'), Atom('223109')]]\n",
      "[[Atom('381189'), [Atom('62469'), [Atom('741253'), Atom('311557')]]], [[Atom('741253'), Atom('427269')], [Atom('62469'), Atom('381189')]], [Atom('223109'), Atom('381189'), [Atom('741253'), Variable(123)]], [[Atom('62469'), Atom('381189')], [Atom('62469'), [Atom('741253'), Variable(139)]]]]\n",
      "[0, 0, 0, 0, 1, 0, 0, 0, 0]\n",
      "[0]\n"
     ]
    }
   ],
   "source": [
    "rt()"
   ]
  },
  {
   "cell_type": "code",
   "execution_count": 20,
   "id": "correct-number",
   "metadata": {},
   "outputs": [
    {
     "data": {
      "text/plain": [
       "0.0"
      ]
     },
     "execution_count": 20,
     "metadata": {},
     "output_type": "execute_result"
    }
   ],
   "source": [
    "arr=[0,1,1]\n",
    "np.array(arr[:0]).sum()"
   ]
  },
  {
   "cell_type": "code",
   "execution_count": 23,
   "id": "conceptual-complexity",
   "metadata": {},
   "outputs": [
    {
     "data": {
      "text/plain": [
       "array([[0.77258772, 0.75418344, 0.8259575 , 0.02423857, 0.86239288,\n",
       "        0.33258206, 0.95879772, 0.47319562, 0.31980994, 0.13325199,\n",
       "        0.66628455, 0.80085589, 0.40491547, 0.80875495, 0.61982221,\n",
       "        0.08043198],\n",
       "       [0.82731647, 0.29043499, 0.30640893, 0.28646636, 0.80434398,\n",
       "        0.55883647, 0.25915326, 0.51088844, 0.86824613, 0.53609049,\n",
       "        0.15376353, 0.4201172 , 0.12115401, 0.75851432, 0.81218553,\n",
       "        0.59679522],\n",
       "       [0.19487862, 0.44658057, 0.3547951 , 0.55726615, 0.60476992,\n",
       "        0.65753579, 0.55189446, 0.06121563, 0.15233983, 0.71434028,\n",
       "        0.87651087, 0.22062229, 0.56857382, 0.14328761, 0.15237773,\n",
       "        0.45713311],\n",
       "       [0.52926322, 0.49737374, 0.08980527, 0.74294145, 0.75640947,\n",
       "        0.87127879, 0.28077583, 0.31190462, 0.10956359, 0.33175913,\n",
       "        0.38043219, 0.67974034, 0.46698045, 0.03812514, 0.88126502,\n",
       "        0.83942109],\n",
       "       [0.57589548, 0.65682949, 0.01000789, 0.47975863, 0.56174634,\n",
       "        0.65936929, 0.89641352, 0.66110823, 0.86270629, 0.69519311,\n",
       "        0.28986063, 0.38407464, 0.51005799, 0.11880446, 0.29196281,\n",
       "        0.42781268],\n",
       "       [0.3034209 , 0.86756469, 0.3674309 , 0.19065117, 0.91316337,\n",
       "        0.19388465, 0.14741657, 0.13626633, 0.61207659, 0.84130062,\n",
       "        0.9217264 , 0.24627352, 0.50803292, 0.16054827, 0.58236423,\n",
       "        0.64465774],\n",
       "       [0.07178429, 0.27736165, 0.98123672, 0.7697868 , 0.01396827,\n",
       "        0.13451188, 0.34998996, 0.56483173, 0.40838422, 0.47793902,\n",
       "        0.27818172, 0.42070331, 0.044446  , 0.00568323, 0.96709433,\n",
       "        0.75556281],\n",
       "       [0.27999107, 0.29434092, 0.26028494, 0.70457187, 0.3866507 ,\n",
       "        0.28851239, 0.06459557, 0.62045259, 0.65207226, 0.74040966,\n",
       "        0.54382434, 0.00838744, 0.6702245 , 0.39741768, 0.88180169,\n",
       "        0.60960996],\n",
       "       [0.6728838 , 0.49456642, 0.44253753, 0.7321289 , 0.28238044,\n",
       "        0.83537702, 0.12988673, 0.30499548, 0.03994815, 0.30825163,\n",
       "        0.43058451, 0.55346695, 0.70113272, 0.79252324, 0.80364323,\n",
       "        0.41036875]])"
      ]
     },
     "execution_count": 23,
     "metadata": {},
     "output_type": "execute_result"
    }
   ],
   "source": [
    "np.random.rand(9,16)"
   ]
  },
  {
   "cell_type": "code",
   "execution_count": 30,
   "id": "operating-cotton",
   "metadata": {},
   "outputs": [
    {
     "data": {
      "text/plain": [
       "array([1.e+00, 4.e+00, 4.e+00, 2.e+00, 2.e+00, 1.e+00, 1.e+00, 2.e+00,\n",
       "       0.e+00, 0.e+00, 0.e+00, 0.e+00, 0.e+00, 1.e+04], dtype=float32)"
      ]
     },
     "execution_count": 30,
     "metadata": {},
     "output_type": "execute_result"
    }
   ],
   "source": [
    "np.array(env.simple_features,np.float32)"
   ]
  },
  {
   "cell_type": "code",
   "execution_count": null,
   "id": "severe-great",
   "metadata": {},
   "outputs": [],
   "source": []
  }
 ],
 "metadata": {
  "kernelspec": {
   "display_name": "Python 3",
   "language": "python",
   "name": "python3"
  },
  "language_info": {
   "codemirror_mode": {
    "name": "ipython",
    "version": 3
   },
   "file_extension": ".py",
   "mimetype": "text/x-python",
   "name": "python",
   "nbconvert_exporter": "python",
   "pygments_lexer": "ipython3",
   "version": "3.7.10"
  }
 },
 "nbformat": 4,
 "nbformat_minor": 5
}
