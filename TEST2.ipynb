{
 "cells": [
  {
   "cell_type": "code",
   "execution_count": 1,
   "id": "wrapped-soviet",
   "metadata": {},
   "outputs": [],
   "source": [
    "from Env_ProLog import ProLog\n",
    "import numpy as np"
   ]
  },
  {
   "cell_type": "code",
   "execution_count": 2,
   "id": "handy-manufacturer",
   "metadata": {},
   "outputs": [],
   "source": [
    "env=ProLog()"
   ]
  },
  {
   "cell_type": "code",
   "execution_count": 3,
   "id": "oriented-luther",
   "metadata": {},
   "outputs": [],
   "source": [
    "def step(k):\n",
    "    a=np.zeros(env.ext_action_size)\n",
    "    a[k]=1.0\n",
    "    \n",
    "    action=a\n",
    "    if(action.shape!=(1)):\n",
    "        action=np.argmax(action)\n",
    "    \n",
    "    if(env.gnnInput[4][action]==0):\n",
    "        action=-1\n",
    "    else:\n",
    "        action=np.array(env.gnnInput[4][:action]).sum()\n",
    "    \n",
    "    print(action)\n",
    "    \n",
    "    print(*env.step(a),sep='\\n')\n",
    "    print(*env.gnnInput,sep='\\n')\n",
    "    \n",
    "def rt():\n",
    "    env.reset()\n",
    "    print(*env.gnnInput,sep='\\n')"
   ]
  },
  {
   "cell_type": "code",
   "execution_count": 18,
   "id": "concrete-coach",
   "metadata": {},
   "outputs": [
    {
     "name": "stdout",
     "output_type": "stream",
     "text": [
      "[Atom('62469'), Atom('223109')]\n",
      "[]\n",
      "[[Atom('62469'), Atom('223109')]]\n",
      "[[Atom('381189'), [Atom('62469'), [Atom('741253'), Atom('311557')]]], [[Atom('741253'), Atom('427269')], [Atom('62469'), Atom('381189')]], [Atom('223109'), Atom('381189'), [Atom('741253'), Variable(123)]], [[Atom('62469'), Atom('381189')], [Atom('62469'), [Atom('741253'), Variable(139)]]]]\n",
      "[0, 0, 0, 0, 1, 0, 0, 0, 0]\n",
      "[0]\n",
      "0\n",
      "{'image': array([0.1, 0.1, 0.1, 0.1, 0.1, 0.1, 0.1, 0.1, 0.1, 0.1, 0.1, 0.1, 0.1,\n",
      "       0.1, 0.1, 0.1])}\n",
      "0.01\n",
      "False\n",
      "{}\n",
      "p\n",
      "[[Atom('62469'), Atom('223109')]]\n",
      "[Atom('381189'), [Atom('741253'), Variable(87)]]\n",
      "[[Atom('381189'), [Atom('62469'), [Atom('741253'), Atom('311557')]]], [[Atom('741253'), Atom('427269')], [Atom('62469'), Atom('381189')]], [Atom('223109'), Atom('381189'), [Atom('741253'), Variable(125)]], [[Atom('62469'), Atom('381189')], [Atom('62469'), [Atom('741253'), Variable(141)]]]]\n",
      "[0, 0, 0, 1, 0, 0, 0, 1, 0]\n",
      "[0, 1]\n",
      "1\n",
      "{'image': array([0.2, 0.2, 0.2, 0.2, 0.2, 0.2, 0.2, 0.2, 0.2, 0.2, 0.2, 0.2, 0.2,\n",
      "       0.2, 0.2, 0.2])}\n",
      "0.01\n",
      "False\n",
      "{}\n",
      "[Atom('62469'), [Atom('741253'), Variable(78)]]\n",
      "[Atom('381189'), [Atom('62469'), Atom('223109')]]\n",
      "[[Atom('741253'), Variable(95)], [Atom('62469'), [Atom('741253'), Variable(103)]]]\n",
      "[[Atom('381189'), [Atom('62469'), [Atom('741253'), Atom('311557')]]], [[Atom('741253'), Atom('427269')], [Atom('62469'), Atom('381189')]], [Atom('223109'), Atom('381189'), [Atom('741253'), Variable(142)]], [[Atom('62469'), Atom('381189')], [Atom('62469'), [Atom('741253'), Variable(158)]]]]\n",
      "[0, 0, 1, 0, 0, 0, 1, 0, 0]\n",
      "[0, 1]\n",
      "0\n",
      "{'image': array([0.3, 0.3, 0.3, 0.3, 0.3, 0.3, 0.3, 0.3, 0.3, 0.3, 0.3, 0.3, 0.3,\n",
      "       0.3, 0.3, 0.3])}\n",
      "0.01\n",
      "False\n",
      "{}\n",
      "[Atom('741253'), Variable(75)]\n",
      "[[Atom('62469'), Atom('223109')]]\n",
      "[[Atom('741253'), Variable(90)]]\n",
      "[[Atom('381189'), [Atom('62469'), [Atom('741253'), Atom('311557')]]], [[Atom('741253'), Atom('427269')], [Atom('62469'), Atom('381189')]], [Atom('223109'), Atom('381189'), [Atom('741253'), Variable(128)]], [[Atom('62469'), Atom('381189')], [Atom('62469'), [Atom('741253'), Variable(144)]]]]\n",
      "[0, 1, 0, 0, 0, 0, 0, 0, 1]\n",
      "[0, 1]\n",
      "1\n",
      "{'image': array([0.4, 0.4, 0.4, 0.4, 0.4, 0.4, 0.4, 0.4, 0.4, 0.4, 0.4, 0.4, 0.4,\n",
      "       0.4, 0.4, 0.4])}\n",
      "0.01\n",
      "False\n",
      "{}\n",
      "[Atom('62469'), Atom('381189')]\n",
      "[[Atom('741253'), Variable(82)], [Atom('62469'), Atom('223109')]]\n",
      "[[Atom('62469'), Atom('381189')]]\n",
      "[[Atom('381189'), [Atom('62469'), [Atom('741253'), Atom('311557')]]], [[Atom('741253'), Atom('427269')], [Atom('62469'), Atom('381189')]], [Atom('223109'), Atom('381189'), [Atom('741253'), Variable(133)]], [[Atom('62469'), Atom('381189')], [Atom('62469'), [Atom('741253'), Variable(149)]]]]\n",
      "[1, 0, 0, 0, 0, 1, 0, 0, 0]\n",
      "[0, 1]\n",
      "0.0\n"
     ]
    },
    {
     "ename": "PrologError",
     "evalue": "Caused by: 'step_python(0.0, GnnInput, SimpleFeatures, Result)'. Returned: 'error(type_error(integer, 0.0), Variable(70))'.",
     "output_type": "error",
     "traceback": [
      "\u001b[1;31m---------------------------------------------------------------------------\u001b[0m",
      "\u001b[1;31mPrologError\u001b[0m                               Traceback (most recent call last)",
      "\u001b[1;32m<ipython-input-18-a45e78b1acad>\u001b[0m in \u001b[0;36m<module>\u001b[1;34m\u001b[0m\n\u001b[0;32m      4\u001b[0m \u001b[0mstep\u001b[0m\u001b[1;33m(\u001b[0m\u001b[1;36m2\u001b[0m\u001b[1;33m)\u001b[0m\u001b[1;33m\u001b[0m\u001b[1;33m\u001b[0m\u001b[0m\n\u001b[0;32m      5\u001b[0m \u001b[0mstep\u001b[0m\u001b[1;33m(\u001b[0m\u001b[1;36m8\u001b[0m\u001b[1;33m)\u001b[0m\u001b[1;33m\u001b[0m\u001b[1;33m\u001b[0m\u001b[0m\n\u001b[1;32m----> 6\u001b[1;33m \u001b[0mstep\u001b[0m\u001b[1;33m(\u001b[0m\u001b[1;36m0\u001b[0m\u001b[1;33m)\u001b[0m\u001b[1;33m\u001b[0m\u001b[1;33m\u001b[0m\u001b[0m\n\u001b[0m",
      "\u001b[1;32m<ipython-input-3-b0f23b597765>\u001b[0m in \u001b[0;36mstep\u001b[1;34m(k)\u001b[0m\n\u001b[0;32m     14\u001b[0m     \u001b[0mprint\u001b[0m\u001b[1;33m(\u001b[0m\u001b[0maction\u001b[0m\u001b[1;33m)\u001b[0m\u001b[1;33m\u001b[0m\u001b[1;33m\u001b[0m\u001b[0m\n\u001b[0;32m     15\u001b[0m \u001b[1;33m\u001b[0m\u001b[0m\n\u001b[1;32m---> 16\u001b[1;33m     \u001b[0mprint\u001b[0m\u001b[1;33m(\u001b[0m\u001b[1;33m*\u001b[0m\u001b[0menv\u001b[0m\u001b[1;33m.\u001b[0m\u001b[0mstep\u001b[0m\u001b[1;33m(\u001b[0m\u001b[0ma\u001b[0m\u001b[1;33m)\u001b[0m\u001b[1;33m,\u001b[0m\u001b[0msep\u001b[0m\u001b[1;33m=\u001b[0m\u001b[1;34m'\\n'\u001b[0m\u001b[1;33m)\u001b[0m\u001b[1;33m\u001b[0m\u001b[1;33m\u001b[0m\u001b[0m\n\u001b[0m\u001b[0;32m     17\u001b[0m     \u001b[0mprint\u001b[0m\u001b[1;33m(\u001b[0m\u001b[1;33m*\u001b[0m\u001b[0menv\u001b[0m\u001b[1;33m.\u001b[0m\u001b[0mgnnInput\u001b[0m\u001b[1;33m,\u001b[0m\u001b[0msep\u001b[0m\u001b[1;33m=\u001b[0m\u001b[1;34m'\\n'\u001b[0m\u001b[1;33m)\u001b[0m\u001b[1;33m\u001b[0m\u001b[1;33m\u001b[0m\u001b[0m\n\u001b[0;32m     18\u001b[0m \u001b[1;33m\u001b[0m\u001b[0m\n",
      "\u001b[1;32m~\\Space\\codes\\AI projets\\DreamProLog\\Env_ProLog.py\u001b[0m in \u001b[0;36mstep\u001b[1;34m(self, action)\u001b[0m\n\u001b[0;32m     99\u001b[0m         \u001b[0mquery\u001b[0m \u001b[1;33m=\u001b[0m \u001b[1;34m'step_python({}, GnnInput, SimpleFeatures, Result)'\u001b[0m\u001b[1;33m.\u001b[0m\u001b[0mformat\u001b[0m\u001b[1;33m(\u001b[0m\u001b[0maction\u001b[0m\u001b[1;33m)\u001b[0m\u001b[1;33m\u001b[0m\u001b[1;33m\u001b[0m\u001b[0m\n\u001b[0;32m    100\u001b[0m         \u001b[1;31m#print(\"Query:\\n   \", query, \"\\n\")\u001b[0m\u001b[1;33m\u001b[0m\u001b[1;33m\u001b[0m\u001b[1;33m\u001b[0m\u001b[0m\n\u001b[1;32m--> 101\u001b[1;33m         \u001b[0mresult\u001b[0m \u001b[1;33m=\u001b[0m \u001b[0mlist\u001b[0m\u001b[1;33m(\u001b[0m\u001b[0mself\u001b[0m\u001b[1;33m.\u001b[0m\u001b[0mprolog\u001b[0m\u001b[1;33m.\u001b[0m\u001b[0mquery\u001b[0m\u001b[1;33m(\u001b[0m\u001b[0mquery\u001b[0m\u001b[1;33m)\u001b[0m\u001b[1;33m)\u001b[0m\u001b[1;33m\u001b[0m\u001b[1;33m\u001b[0m\u001b[0m\n\u001b[0m\u001b[0;32m    102\u001b[0m         \u001b[1;32mif\u001b[0m \u001b[0mlen\u001b[0m\u001b[1;33m(\u001b[0m\u001b[0mresult\u001b[0m\u001b[1;33m)\u001b[0m \u001b[1;33m==\u001b[0m \u001b[1;36m0\u001b[0m\u001b[1;33m:\u001b[0m\u001b[1;33m\u001b[0m\u001b[1;33m\u001b[0m\u001b[0m\n\u001b[0;32m    103\u001b[0m             \u001b[0mself\u001b[0m\u001b[1;33m.\u001b[0m\u001b[0mresult\u001b[0m\u001b[1;33m=\u001b[0m\u001b[1;33m-\u001b[0m\u001b[1;36m1\u001b[0m\u001b[1;33m\u001b[0m\u001b[1;33m\u001b[0m\u001b[0m\n",
      "\u001b[1;32m~\\AppData\\Roaming\\Python\\Python37\\site-packages\\pyswip\\prolog.py\u001b[0m in \u001b[0;36m__call__\u001b[1;34m(self, query, maxresult, catcherrors, normalize)\u001b[0m\n\u001b[0;32m    125\u001b[0m \u001b[1;33m\u001b[0m\u001b[0m\n\u001b[0;32m    126\u001b[0m                     raise PrologError(\"\".join([\"Caused by: '\", query, \"'. \",\n\u001b[1;32m--> 127\u001b[1;33m                                                \"Returned: '\", str(term), \"'.\"]))\n\u001b[0m\u001b[0;32m    128\u001b[0m \u001b[1;33m\u001b[0m\u001b[0m\n\u001b[0;32m    129\u001b[0m             \u001b[1;32mfinally\u001b[0m\u001b[1;33m:\u001b[0m \u001b[1;31m# This ensures that, whatever happens, we close the query\u001b[0m\u001b[1;33m\u001b[0m\u001b[1;33m\u001b[0m\u001b[0m\n",
      "\u001b[1;31mPrologError\u001b[0m: Caused by: 'step_python(0.0, GnnInput, SimpleFeatures, Result)'. Returned: 'error(type_error(integer, 0.0), Variable(70))'."
     ]
    }
   ],
   "source": [
    "rt()\n",
    "step(4)\n",
    "step(7)\n",
    "step(2)\n",
    "step(8)\n",
    "step(0)"
   ]
  },
  {
   "cell_type": "code",
   "execution_count": 11,
   "id": "fifteen-motivation",
   "metadata": {},
   "outputs": [
    {
     "name": "stdout",
     "output_type": "stream",
     "text": [
      "[Atom('62469'), Atom('223109')]\n",
      "[]\n",
      "[[Atom('62469'), Atom('223109')]]\n",
      "[[Atom('381189'), [Atom('62469'), [Atom('741253'), Atom('311557')]]], [[Atom('741253'), Atom('427269')], [Atom('62469'), Atom('381189')]], [Atom('223109'), Atom('381189'), [Atom('741253'), Variable(123)]], [[Atom('62469'), Atom('381189')], [Atom('62469'), [Atom('741253'), Variable(139)]]]]\n",
      "[0, 0, 0, 0, 1, 0, 0, 0, 0]\n",
      "[0]\n"
     ]
    }
   ],
   "source": [
    "rt()"
   ]
  },
  {
   "cell_type": "code",
   "execution_count": null,
   "id": "acknowledged-linux",
   "metadata": {},
   "outputs": [],
   "source": []
  }
 ],
 "metadata": {
  "kernelspec": {
   "display_name": "Python 3",
   "language": "python",
   "name": "python3"
  },
  "language_info": {
   "codemirror_mode": {
    "name": "ipython",
    "version": 3
   },
   "file_extension": ".py",
   "mimetype": "text/x-python",
   "name": "python",
   "nbconvert_exporter": "python",
   "pygments_lexer": "ipython3",
   "version": "3.7.10"
  }
 },
 "nbformat": 4,
 "nbformat_minor": 5
}
