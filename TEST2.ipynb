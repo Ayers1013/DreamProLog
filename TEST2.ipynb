{
 "cells": [
  {
   "cell_type": "code",
   "execution_count": 1,
   "id": "processed-vision",
   "metadata": {},
   "outputs": [],
   "source": [
    "from Env_ProLog import ProLog\n",
    "import numpy as np"
   ]
  },
  {
   "cell_type": "code",
   "execution_count": 2,
   "id": "dedicated-marshall",
   "metadata": {},
   "outputs": [],
   "source": [
    "env=ProLog()"
   ]
  },
  {
   "cell_type": "code",
   "execution_count": 3,
   "id": "forty-cemetery",
   "metadata": {},
   "outputs": [],
   "source": [
    "def step(k):\n",
    "    a=np.zeros(env.ext_action_size)\n",
    "    a[k]=1.0\n",
    "    \n",
    "    action=a\n",
    "    if(action.shape!=(1)):\n",
    "        action=np.argmax(action)\n",
    "    \n",
    "    print(action)\n",
    "    print(env.action_perm)\n",
    "\n",
    "    indices = np.where(env.action_perm==action)[0]\n",
    "    # print(indices)\n",
    "    if len(indices) > 0:\n",
    "        action = indices[0]\n",
    "    else:\n",
    "        action = -1\n",
    "    print(action)\n",
    "    \n",
    "    print(*env.step(a),sep='\\n')\n",
    "    print(*env.gnnInput,sep='\\n')\n",
    "    \n",
    "def rt():\n",
    "    env.reset()\n",
    "    print(*env.gnnInput,sep='\\n')"
   ]
  },
  {
   "cell_type": "code",
   "execution_count": 8,
   "id": "decent-convert",
   "metadata": {},
   "outputs": [
    {
     "name": "stdout",
     "output_type": "stream",
     "text": [
      "0\n",
      "[0]\n",
      "0\n",
      "{'image': array([0.1, 0.1, 0.1, 0.1, 0.1, 0.1, 0.1, 0.1, 0.1, 0.1, 0.1, 0.1, 0.1,\n",
      "       0.1, 0.1, 0.1])}\n",
      "0.01\n",
      "False\n",
      "{}\n",
      "p\n",
      "[[Atom('62469'), Atom('223109')]]\n",
      "[Atom('381189'), [Atom('741253'), Variable(87)]]\n",
      "[[Atom('381189'), [Atom('62469'), [Atom('741253'), Atom('311557')]]], [[Atom('741253'), Atom('427269')], [Atom('62469'), Atom('381189')]], [Atom('223109'), Atom('381189'), [Atom('741253'), Variable(125)]], [[Atom('62469'), Atom('381189')], [Atom('62469'), [Atom('741253'), Variable(141)]]]]\n",
      "[0, 0, 0, 1, 0, 0, 0, 1, 0]\n",
      "[0, 1]\n"
     ]
    }
   ],
   "source": [
    "step(3)"
   ]
  },
  {
   "cell_type": "code",
   "execution_count": 7,
   "id": "understanding-macro",
   "metadata": {},
   "outputs": [
    {
     "name": "stdout",
     "output_type": "stream",
     "text": [
      "[Atom('62469'), Atom('223109')]\n",
      "[]\n",
      "[[Atom('62469'), Atom('223109')]]\n",
      "[[Atom('381189'), [Atom('62469'), [Atom('741253'), Atom('311557')]]], [[Atom('741253'), Atom('427269')], [Atom('62469'), Atom('381189')]], [Atom('223109'), Atom('381189'), [Atom('741253'), Variable(123)]], [[Atom('62469'), Atom('381189')], [Atom('62469'), [Atom('741253'), Variable(139)]]]]\n",
      "[0, 0, 0, 0, 1, 0, 0, 0, 0]\n",
      "[0]\n"
     ]
    }
   ],
   "source": [
    "rt()"
   ]
  },
  {
   "cell_type": "code",
   "execution_count": null,
   "id": "warming-tragedy",
   "metadata": {},
   "outputs": [],
   "source": []
  }
 ],
 "metadata": {
  "kernelspec": {
   "display_name": "Python 3",
   "language": "python",
   "name": "python3"
  },
  "language_info": {
   "codemirror_mode": {
    "name": "ipython",
    "version": 3
   },
   "file_extension": ".py",
   "mimetype": "text/x-python",
   "name": "python",
   "nbconvert_exporter": "python",
   "pygments_lexer": "ipython3",
   "version": "3.7.10"
  }
 },
 "nbformat": 4,
 "nbformat_minor": 5
}
