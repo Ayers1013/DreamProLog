{
 "cells": [
  {
   "cell_type": "code",
   "execution_count": 50,
   "id": "respective-soccer",
   "metadata": {},
   "outputs": [],
   "source": [
    "import tensorflow as tf\n",
    "\n",
    "class Data(tf.keras.Model):\n",
    "    def __init__(self):\n",
    "        super().__init__()\n",
    "        self._x=tf.keras.layers.Input(dtype=tf.float32)\n",
    "        self._y=tf.keras.layers.Input(dtype=tf.float32)\n",
    "        \n",
    "class InputData(tf.keras.Model):\n",
    "    def __init__(self):\n",
    "        super().__init__()\n",
    "        self.empty=0\n",
    "        \n",
    "    def call(self, inputs):\n",
    "        return Data(inputs[0],inputs[1])\n",
    "\n",
    "class layer(tf.keras.Model):\n",
    "    def __init__(self):\n",
    "        super().__init__()\n",
    "        self.inputLayer=InputData()\n",
    "        self.dense1=tf.keras.layers.Dense(1)\n",
    "        \n",
    "    def call(self, inputs):\n",
    "        x=self.inputLayer(inputs)\n",
    "        a=tf.concat([x._x,x._y],axis=0)\n",
    "        a=tf.reshape(a,shape=[-1,2])\n",
    "        a=self.dense1(a)\n",
    "        return a"
   ]
  },
  {
   "cell_type": "code",
   "execution_count": 51,
   "id": "miniature-optics",
   "metadata": {},
   "outputs": [],
   "source": [
    "l=layer()"
   ]
  },
  {
   "cell_type": "code",
   "execution_count": 52,
   "id": "worse-projector",
   "metadata": {},
   "outputs": [
    {
     "data": {
      "text/plain": [
       "<tf.Tensor: shape=(1, 1), dtype=float32, numpy=array([[-2.0287976]], dtype=float32)>"
      ]
     },
     "execution_count": 52,
     "metadata": {},
     "output_type": "execute_result"
    }
   ],
   "source": [
    "l([1,2])"
   ]
  },
  {
   "cell_type": "code",
   "execution_count": 43,
   "id": "selected-hearts",
   "metadata": {},
   "outputs": [
    {
     "data": {
      "text/plain": [
       "<KerasTensor: shape=(None, 5) dtype=float32 (created by layer 'input_2')>"
      ]
     },
     "execution_count": 43,
     "metadata": {},
     "output_type": "execute_result"
    }
   ],
   "source": [
    "l2=tf.keras.Input(5)\n",
    "\n",
    "l2"
   ]
  },
  {
   "cell_type": "code",
   "execution_count": null,
   "id": "precise-lobby",
   "metadata": {},
   "outputs": [],
   "source": []
  }
 ],
 "metadata": {
  "kernelspec": {
   "display_name": "Python 3",
   "language": "python",
   "name": "python3"
  },
  "language_info": {
   "codemirror_mode": {
    "name": "ipython",
    "version": 3
   },
   "file_extension": ".py",
   "mimetype": "text/x-python",
   "name": "python",
   "nbconvert_exporter": "python",
   "pygments_lexer": "ipython3",
   "version": "3.7.10"
  }
 },
 "nbformat": 4,
 "nbformat_minor": 5
}
